{
 "cells": [
  {
   "cell_type": "code",
   "execution_count": 1,
   "id": "fa306af4-b173-4903-a432-4937491a0ebf",
   "metadata": {},
   "outputs": [],
   "source": [
    "global_var = 6546531"
   ]
  },
  {
   "cell_type": "code",
   "execution_count": 5,
   "id": "5c9743e2-34dc-4eae-adee-360fb0385abe",
   "metadata": {},
   "outputs": [],
   "source": [
    "class Person:\n",
    "    def __init__(self, name, age, gender, houses=1, atm_pin=1234):\n",
    "        self.naam = name\n",
    "        self.age = age\n",
    "        self.gender = gender\n",
    "        self._houses = houses # representing protected variable\n",
    "        self.__atm_pin = atm_pin # representing private variable\n",
    "\n",
    "    def display_info(self, ):\n",
    "        message = f'''\n",
    "        Hello, I am {self.naam}, I am {self.age} and I am {self.gender}\n",
    "        My Atm pin is {self.__atm_pin}\n",
    "        I have {self._houses} houses\n",
    "        '''\n",
    "        print(message)\n"
   ]
  },
  {
   "cell_type": "code",
   "execution_count": 6,
   "id": "f39c072c-3bdd-4f2c-8cae-1a35d091360b",
   "metadata": {},
   "outputs": [],
   "source": [
    "per1 = Person('fusisodjfk', 89, 'sfeidjnsfdv')"
   ]
  },
  {
   "cell_type": "code",
   "execution_count": 7,
   "id": "f87bbfc9-8ffb-4c25-8ae1-6fe7f8d88e04",
   "metadata": {},
   "outputs": [
    {
     "name": "stdout",
     "output_type": "stream",
     "text": [
      "\n",
      "        Hello, I am fusisodjfk, I am 89 and I am sfeidjnsfdv\n",
      "        My Atm pin is 1234\n",
      "        I have 1 houses\n",
      "        \n"
     ]
    }
   ],
   "source": [
    "per1.display_info()"
   ]
  },
  {
   "cell_type": "code",
   "execution_count": 8,
   "id": "75478202-8fc6-4d74-8d74-cdf8840bb408",
   "metadata": {},
   "outputs": [
    {
     "data": {
      "text/plain": [
       "'sfeidjnsfdv'"
      ]
     },
     "execution_count": 8,
     "metadata": {},
     "output_type": "execute_result"
    }
   ],
   "source": [
    "per1.gender"
   ]
  },
  {
   "cell_type": "code",
   "execution_count": 10,
   "id": "7015e05f-2864-4263-9e37-8db778f928f8",
   "metadata": {},
   "outputs": [
    {
     "data": {
      "text/plain": [
       "1"
      ]
     },
     "execution_count": 10,
     "metadata": {},
     "output_type": "execute_result"
    }
   ],
   "source": [
    "per1._houses"
   ]
  },
  {
   "cell_type": "code",
   "execution_count": 11,
   "id": "2b8389c7-245e-4d53-a187-62829ca361c0",
   "metadata": {},
   "outputs": [
    {
     "ename": "AttributeError",
     "evalue": "'Person' object has no attribute '__atm_pin'",
     "output_type": "error",
     "traceback": [
      "\u001b[1;31m---------------------------------------------------------------------------\u001b[0m",
      "\u001b[1;31mAttributeError\u001b[0m                            Traceback (most recent call last)",
      "Cell \u001b[1;32mIn[11], line 1\u001b[0m\n\u001b[1;32m----> 1\u001b[0m \u001b[43mper1\u001b[49m\u001b[38;5;241;43m.\u001b[39;49m\u001b[43m__atm_pin\u001b[49m\n",
      "\u001b[1;31mAttributeError\u001b[0m: 'Person' object has no attribute '__atm_pin'"
     ]
    }
   ],
   "source": [
    "per1.__atm_pin"
   ]
  },
  {
   "cell_type": "code",
   "execution_count": 12,
   "id": "d45e5d20-f963-4c01-b3b8-5deaaca2023b",
   "metadata": {},
   "outputs": [
    {
     "data": {
      "text/plain": [
       "1234"
      ]
     },
     "execution_count": 12,
     "metadata": {},
     "output_type": "execute_result"
    }
   ],
   "source": [
    "per1._Person__atm_pin\n",
    "# _className__varName"
   ]
  },
  {
   "cell_type": "markdown",
   "id": "4925592d-188d-4149-afab-91f1db230dcd",
   "metadata": {},
   "source": [
    "# Inheritence"
   ]
  },
  {
   "cell_type": "code",
   "execution_count": 14,
   "id": "a5555be1-aa17-4a51-8228-3abb84c52580",
   "metadata": {},
   "outputs": [],
   "source": [
    "class Person:\n",
    "    def __init__(self, fname, lname, age):\n",
    "        self.fname = fname\n",
    "        self.lname = lname\n",
    "        self.age = age\n",
    "\n",
    "    def info(self,):\n",
    "        message = f'Hello I am {self.fname} {self.lname}. I am {self.age} years old.'\n",
    "        print(message)"
   ]
  },
  {
   "cell_type": "code",
   "execution_count": 27,
   "id": "713e9660-3f4c-4c25-b86f-aa20101f6fc0",
   "metadata": {},
   "outputs": [],
   "source": [
    "class Student(Person): # student class is inheriting person class\n",
    "    def __init__(self, fname, lname, age, degree, grad_year):\n",
    "        self.degree = degree\n",
    "        self.grad_year = grad_year\n",
    "        super().__init__(fname, lname, age)\n",
    "\n",
    "    def info(self, ):\n",
    "        message = f'''\n",
    "        Hello I am {self.fname} {self.lname}. I am {self.age} years old.\n",
    "        I have {self.degree} Degree. I graduated on {self.grad_year}\n",
    "        '''\n",
    "        print(message)"
   ]
  },
  {
   "cell_type": "code",
   "execution_count": 30,
   "id": "c01c67e0-3bb1-49c5-aa72-dfef5a7a688a",
   "metadata": {},
   "outputs": [],
   "source": [
    "stu1 = Student('Radha', 'Piyari', 45, 'Msc', 2019)"
   ]
  },
  {
   "cell_type": "code",
   "execution_count": 31,
   "id": "ca4c3ad7-2b43-4f77-b874-5406fd614d89",
   "metadata": {},
   "outputs": [
    {
     "name": "stdout",
     "output_type": "stream",
     "text": [
      "\n",
      "        Hello I am Radha Piyari. I am 45 years old.\n",
      "        I have Msc Degree. I graduated on 2019\n",
      "        \n"
     ]
    }
   ],
   "source": [
    "stu1.info()"
   ]
  },
  {
   "cell_type": "code",
   "execution_count": 32,
   "id": "a82217d2-d34c-4a45-a797-59b078d982de",
   "metadata": {},
   "outputs": [
    {
     "data": {
      "text/plain": [
       "'Radha'"
      ]
     },
     "execution_count": 32,
     "metadata": {},
     "output_type": "execute_result"
    }
   ],
   "source": [
    "stu1.fname"
   ]
  },
  {
   "cell_type": "code",
   "execution_count": 33,
   "id": "12059517-455d-4b90-b1cc-c71a692f2ed0",
   "metadata": {},
   "outputs": [],
   "source": [
    "class SimpleCalc:\n",
    "    def __init__(self, a, b):\n",
    "        self.a = a\n",
    "        self.b = b\n",
    "    def addition(self,):\n",
    "        print(f'{self.a} + {self.b} = {self.a + self.b}')\n",
    "    def sunbtraction(self,):\n",
    "        print(f'{self.a} - {self.b} = {self.a - self.b}')\n",
    "    def multiplication(self,):\n",
    "        print(f'{self.a} X {self.b} = {self.a * self.b}')\n",
    "    def division(self,):\n",
    "        try:\n",
    "            print(f'{self.a} / {self.b} = {self.a / self.b}')\n",
    "        except ZeroDivisionError:\n",
    "            print('Cannot divide by zero.')\n",
    "        "
   ]
  },
  {
   "cell_type": "code",
   "execution_count": null,
   "id": "414ee901-f22b-4948-85ae-1bf14177835d",
   "metadata": {},
   "outputs": [],
   "source": [
    "class ComplexCalc(SimpleCalc):\n",
    "    def __init__(self, a, b):\n",
    "        super.__init__(a, b)\n",
    "\n",
    "    def hcf(self, ):\n",
    "        pass"
   ]
  }
 ],
 "metadata": {
  "kernelspec": {
   "display_name": "Python 3 (ipykernel)",
   "language": "python",
   "name": "python3"
  },
  "language_info": {
   "codemirror_mode": {
    "name": "ipython",
    "version": 3
   },
   "file_extension": ".py",
   "mimetype": "text/x-python",
   "name": "python",
   "nbconvert_exporter": "python",
   "pygments_lexer": "ipython3",
   "version": "3.10.11"
  }
 },
 "nbformat": 4,
 "nbformat_minor": 5
}
