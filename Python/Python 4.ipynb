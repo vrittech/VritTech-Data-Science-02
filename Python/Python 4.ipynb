{
 "cells": [
  {
   "cell_type": "markdown",
   "id": "aa3540eb",
   "metadata": {},
   "source": [
    "# Exceptetion Handling"
   ]
  },
  {
   "cell_type": "code",
   "execution_count": 2,
   "id": "0c9b641f",
   "metadata": {},
   "outputs": [],
   "source": [
    "# print(hello world)"
   ]
  },
  {
   "cell_type": "code",
   "execution_count": 3,
   "id": "02a49612",
   "metadata": {},
   "outputs": [
    {
     "data": {
      "text/plain": [
       "0.08928571428571429"
      ]
     },
     "execution_count": 3,
     "metadata": {},
     "output_type": "execute_result"
    }
   ],
   "source": [
    "a = 5\n",
    "\n",
    "b = 56\n",
    "a / b"
   ]
  },
  {
   "cell_type": "code",
   "execution_count": 4,
   "id": "b1c7ebea",
   "metadata": {},
   "outputs": [],
   "source": [
    "l = ['a', 'e', 'i']"
   ]
  },
  {
   "cell_type": "code",
   "execution_count": 5,
   "id": "c914c5bd",
   "metadata": {},
   "outputs": [
    {
     "ename": "IndexError",
     "evalue": "list index out of range",
     "output_type": "error",
     "traceback": [
      "\u001b[1;31m---------------------------------------------------------------------------\u001b[0m",
      "\u001b[1;31mIndexError\u001b[0m                                Traceback (most recent call last)",
      "\u001b[1;32m~\\AppData\\Local\\Temp\\ipykernel_11364\\3011213518.py\u001b[0m in \u001b[0;36m<cell line: 1>\u001b[1;34m()\u001b[0m\n\u001b[1;32m----> 1\u001b[1;33m \u001b[0ml\u001b[0m\u001b[1;33m[\u001b[0m\u001b[1;36m4\u001b[0m\u001b[1;33m]\u001b[0m\u001b[1;33m\u001b[0m\u001b[1;33m\u001b[0m\u001b[0m\n\u001b[0m",
      "\u001b[1;31mIndexError\u001b[0m: list index out of range"
     ]
    }
   ],
   "source": [
    "l[4]"
   ]
  },
  {
   "cell_type": "code",
   "execution_count": 13,
   "id": "d08a6822",
   "metadata": {},
   "outputs": [
    {
     "ename": "ZeroDivisionError",
     "evalue": "division by zero",
     "output_type": "error",
     "traceback": [
      "\u001b[1;31m---------------------------------------------------------------------------\u001b[0m",
      "\u001b[1;31mZeroDivisionError\u001b[0m                         Traceback (most recent call last)",
      "\u001b[1;32m~\\AppData\\Local\\Temp\\ipykernel_11364\\1455669704.py\u001b[0m in \u001b[0;36m<cell line: 1>\u001b[1;34m()\u001b[0m\n\u001b[1;32m----> 1\u001b[1;33m \u001b[1;36m1\u001b[0m \u001b[1;33m/\u001b[0m \u001b[1;36m0\u001b[0m\u001b[1;33m\u001b[0m\u001b[1;33m\u001b[0m\u001b[0m\n\u001b[0m",
      "\u001b[1;31mZeroDivisionError\u001b[0m: division by zero"
     ]
    }
   ],
   "source": [
    "1 / 0"
   ]
  },
  {
   "cell_type": "code",
   "execution_count": 9,
   "id": "9759ba54",
   "metadata": {},
   "outputs": [
    {
     "name": "stdout",
     "output_type": "stream",
     "text": [
      "Cannot divide by zero!!!\n"
     ]
    }
   ],
   "source": [
    "a = 5\n",
    "b = 0\n",
    "\n",
    "try:\n",
    "    print(a / b)\n",
    "except ZeroDivisionError:\n",
    "    print('Cannot divide by zero!!!')"
   ]
  },
  {
   "cell_type": "code",
   "execution_count": 11,
   "id": "4f3c130b",
   "metadata": {},
   "outputs": [
    {
     "data": {
      "text/plain": [
       "['a', 'e', 'i']"
      ]
     },
     "execution_count": 11,
     "metadata": {},
     "output_type": "execute_result"
    }
   ],
   "source": [
    "l"
   ]
  },
  {
   "cell_type": "code",
   "execution_count": 14,
   "id": "72d00236",
   "metadata": {},
   "outputs": [
    {
     "name": "stdout",
     "output_type": "stream",
     "text": [
      "Enter Index: 1\n",
      "Value is e\n"
     ]
    }
   ],
   "source": [
    "ind = input('Enter Index: ')\n",
    "ind = int(ind)\n",
    "try:\n",
    "    print(f'Value is {l[ind]}')\n",
    "except IndexError:\n",
    "    print('Value does not exist')"
   ]
  },
  {
   "cell_type": "code",
   "execution_count": 19,
   "id": "5f62dc66",
   "metadata": {},
   "outputs": [
    {
     "name": "stdout",
     "output_type": "stream",
     "text": [
      "Enter Index: l\n"
     ]
    },
    {
     "ename": "ValueError",
     "evalue": "invalid literal for int() with base 10: 'l'",
     "output_type": "error",
     "traceback": [
      "\u001b[1;31m---------------------------------------------------------------------------\u001b[0m",
      "\u001b[1;31mValueError\u001b[0m                                Traceback (most recent call last)",
      "\u001b[1;32m~\\AppData\\Local\\Temp\\ipykernel_11364\\3365113912.py\u001b[0m in \u001b[0;36m<cell line: 3>\u001b[1;34m()\u001b[0m\n\u001b[0;32m      1\u001b[0m \u001b[0mind\u001b[0m \u001b[1;33m=\u001b[0m \u001b[0minput\u001b[0m\u001b[1;33m(\u001b[0m\u001b[1;34m'Enter Index: '\u001b[0m\u001b[1;33m)\u001b[0m\u001b[1;33m\u001b[0m\u001b[1;33m\u001b[0m\u001b[0m\n\u001b[0;32m      2\u001b[0m \u001b[1;33m\u001b[0m\u001b[0m\n\u001b[1;32m----> 3\u001b[1;33m \u001b[0mind\u001b[0m \u001b[1;33m=\u001b[0m \u001b[0mint\u001b[0m\u001b[1;33m(\u001b[0m\u001b[0mind\u001b[0m\u001b[1;33m)\u001b[0m\u001b[1;33m\u001b[0m\u001b[1;33m\u001b[0m\u001b[0m\n\u001b[0m\u001b[0;32m      4\u001b[0m \u001b[1;33m\u001b[0m\u001b[0m\n\u001b[0;32m      5\u001b[0m \u001b[1;32mtry\u001b[0m\u001b[1;33m:\u001b[0m\u001b[1;33m\u001b[0m\u001b[1;33m\u001b[0m\u001b[0m\n",
      "\u001b[1;31mValueError\u001b[0m: invalid literal for int() with base 10: 'l'"
     ]
    }
   ],
   "source": [
    "ind = input('Enter Index: ')\n",
    "try:\n",
    "    ind = int(ind)\n",
    "except ValueError:\n",
    "    print('Invalid Input')\n",
    "    \n",
    "try:\n",
    "    print(f'Value is {l[ind]}')\n",
    "except:\n",
    "    print('Value does not exist')"
   ]
  },
  {
   "cell_type": "code",
   "execution_count": 22,
   "id": "95c33703",
   "metadata": {},
   "outputs": [
    {
     "name": "stdout",
     "output_type": "stream",
     "text": [
      "Enter Index: 9\n",
      "Invalid value provided\n"
     ]
    }
   ],
   "source": [
    "ind = input('Enter Index: ')\n",
    "try:\n",
    "    ind = int(ind)\n",
    "    print(f'Value is {l[ind]}')\n",
    "except (IndexError, ValueError):\n",
    "    print('Invalid value provided')"
   ]
  },
  {
   "cell_type": "markdown",
   "id": "b9bf42fb",
   "metadata": {},
   "source": [
    "# Branching / Flow Control"
   ]
  },
  {
   "cell_type": "code",
   "execution_count": 1,
   "id": "7bf23972",
   "metadata": {},
   "outputs": [
    {
     "name": "stdout",
     "output_type": "stream",
     "text": [
      "Enter a Number: 8\n"
     ]
    }
   ],
   "source": [
    "user_input = input('Enter a Number: ')\n",
    "user_input = int(user_input)"
   ]
  },
  {
   "cell_type": "code",
   "execution_count": 2,
   "id": "de86f523",
   "metadata": {},
   "outputs": [
    {
     "name": "stdout",
     "output_type": "stream",
     "text": [
      "You entered something else!!\n"
     ]
    }
   ],
   "source": [
    "if user_input == 5:\n",
    "    print('You entered 5')\n",
    "else:\n",
    "    print('You entered something else!!')"
   ]
  },
  {
   "cell_type": "code",
   "execution_count": 25,
   "id": "27cf5d52",
   "metadata": {},
   "outputs": [
    {
     "name": "stdout",
     "output_type": "stream",
     "text": [
      "Enter your name: hari Prasad\n",
      "I am so sorry to infrom that, this gae is for humnas, no animals\n"
     ]
    }
   ],
   "source": [
    "user_input = input('Enter your name: ')\n",
    "if user_input == 'Hari Bahadur':\n",
    "    print(f'Welcome {user_input}, The game is over!!')\n",
    "else:\n",
    "    print('I am so sorry to infrom that, this game is for humnas, no animals')"
   ]
  },
  {
   "cell_type": "code",
   "execution_count": 28,
   "id": "09e2c080",
   "metadata": {},
   "outputs": [
    {
     "name": "stdout",
     "output_type": "stream",
     "text": [
      "Enter a day of the week: WeD\n",
      "The day is Wednesday\n"
     ]
    }
   ],
   "source": [
    "user_input = input('Enter a day of the week: ')\n",
    "user_input = user_input.lower()\n",
    "\n",
    "if user_input == 'sun':\n",
    "    print('The day is Sunday')\n",
    "elif user_input == 'mon':\n",
    "    print('The day is Monday')\n",
    "elif user_input == 'tue':\n",
    "    print('The day is Tuesday')\n",
    "elif user_input == 'wed':\n",
    "    print('The day is Wednesday')\n",
    "elif user_input == 'thurs':\n",
    "    print('The day is Thursday')\n",
    "elif user_input == 'fri':\n",
    "    print('The day is Friday')\n",
    "elif user_input == 'sat':\n",
    "    print('The day is Saturday')\n",
    "else:\n",
    "    print('Invalid Input!!!')"
   ]
  },
  {
   "cell_type": "code",
   "execution_count": 31,
   "id": "c2ff1cc2",
   "metadata": {},
   "outputs": [
    {
     "name": "stdout",
     "output_type": "stream",
     "text": [
      "Enter your Score: 25\n",
      "Kakratulation!! You failed Sucessfully!!!\n"
     ]
    }
   ],
   "source": [
    "percentage = input('Enter your Score: ')\n",
    "percentage = float(percentage)\n",
    "\n",
    "if percentage > 100:\n",
    "    print('Greater than the range.')\n",
    "elif percentage >=80:\n",
    "    print('Bravo!!\\nFirst Division with Distinction')\n",
    "elif percentage >= 60:\n",
    "    print('Good Job!!! First Division')\n",
    "elif percentage >= 50:\n",
    "    print('Nice!! Second Division')\n",
    "elif percentage >= 40:\n",
    "    print('Third Division')\n",
    "else: \n",
    "    print('Kakratulation!! You failed Sucessfully!!!')"
   ]
  },
  {
   "cell_type": "markdown",
   "id": "feda3a64",
   "metadata": {},
   "source": [
    "# Looping"
   ]
  },
  {
   "cell_type": "markdown",
   "id": "03549959",
   "metadata": {},
   "source": [
    "## While loop\n",
    "\n",
    "```python\n",
    "while condition:\n",
    "    codes\n",
    "```"
   ]
  },
  {
   "cell_type": "code",
   "execution_count": 32,
   "id": "1d675d40",
   "metadata": {},
   "outputs": [
    {
     "name": "stdout",
     "output_type": "stream",
     "text": [
      "0\n",
      "1\n",
      "2\n",
      "3\n",
      "4\n"
     ]
    }
   ],
   "source": [
    "i = 0\n",
    "\n",
    "while i < 5:\n",
    "    print(i)\n",
    "    i = i + 1\n",
    "    "
   ]
  },
  {
   "cell_type": "code",
   "execution_count": 38,
   "id": "6ed0c25e",
   "metadata": {},
   "outputs": [
    {
     "data": {
      "text/plain": [
       "[0, 1, 2, 3, 4]"
      ]
     },
     "execution_count": 38,
     "metadata": {},
     "output_type": "execute_result"
    }
   ],
   "source": [
    "list(range(5))"
   ]
  },
  {
   "cell_type": "code",
   "execution_count": 36,
   "id": "01e518a6",
   "metadata": {},
   "outputs": [
    {
     "name": "stdout",
     "output_type": "stream",
     "text": [
      "0\n",
      "1\n",
      "2\n",
      "3\n",
      "4\n"
     ]
    }
   ],
   "source": [
    "for x in range(5):\n",
    "    print(x)"
   ]
  },
  {
   "cell_type": "code",
   "execution_count": 39,
   "id": "36b366e5",
   "metadata": {},
   "outputs": [],
   "source": [
    "l = ['a', 'e', 'i', 'o', 'u']"
   ]
  },
  {
   "cell_type": "code",
   "execution_count": 40,
   "id": "c4ed126a",
   "metadata": {},
   "outputs": [
    {
     "name": "stdout",
     "output_type": "stream",
     "text": [
      "a\n",
      "e\n",
      "i\n",
      "o\n",
      "u\n"
     ]
    }
   ],
   "source": [
    "for x in l:\n",
    "    print(x)"
   ]
  },
  {
   "cell_type": "code",
   "execution_count": 42,
   "id": "ec613b3e",
   "metadata": {},
   "outputs": [
    {
     "name": "stdout",
     "output_type": "stream",
     "text": [
      "a\n",
      "e\n",
      "i\n",
      "o\n",
      "u\n"
     ]
    }
   ],
   "source": [
    "i = 0\n",
    "while i < len(l):\n",
    "    print(l[i])\n",
    "    i = i + 1"
   ]
  },
  {
   "cell_type": "code",
   "execution_count": null,
   "id": "e6e620e4",
   "metadata": {},
   "outputs": [],
   "source": []
  }
 ],
 "metadata": {
  "kernelspec": {
   "display_name": "Python 3 (ipykernel)",
   "language": "python",
   "name": "python3"
  },
  "language_info": {
   "codemirror_mode": {
    "name": "ipython",
    "version": 3
   },
   "file_extension": ".py",
   "mimetype": "text/x-python",
   "name": "python",
   "nbconvert_exporter": "python",
   "pygments_lexer": "ipython3",
   "version": "3.9.13"
  }
 },
 "nbformat": 4,
 "nbformat_minor": 5
}
