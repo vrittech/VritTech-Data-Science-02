{
 "cells": [
  {
   "cell_type": "markdown",
   "id": "da4e6f2a",
   "metadata": {},
   "source": [
    "# Count the number of each vowels in the given string"
   ]
  },
  {
   "cell_type": "code",
   "execution_count": 1,
   "id": "d46797db",
   "metadata": {},
   "outputs": [],
   "source": [
    "sentence = 'A quick brown fox jumped over the little lazy dog'"
   ]
  },
  {
   "cell_type": "code",
   "execution_count": 2,
   "id": "4fae0af1",
   "metadata": {},
   "outputs": [
    {
     "name": "stdout",
     "output_type": "stream",
     "text": [
      "A\n",
      " \n",
      "q\n",
      "u\n",
      "i\n",
      "c\n",
      "k\n",
      " \n",
      "b\n",
      "r\n",
      "o\n",
      "w\n",
      "n\n",
      " \n",
      "f\n",
      "o\n",
      "x\n",
      " \n",
      "j\n",
      "u\n",
      "m\n",
      "p\n",
      "e\n",
      "d\n",
      " \n",
      "o\n",
      "v\n",
      "e\n",
      "r\n",
      " \n",
      "t\n",
      "h\n",
      "e\n",
      " \n",
      "l\n",
      "i\n",
      "t\n",
      "t\n",
      "l\n",
      "e\n",
      " \n",
      "l\n",
      "a\n",
      "z\n",
      "y\n",
      " \n",
      "d\n",
      "o\n",
      "g\n"
     ]
    }
   ],
   "source": [
    "for x in sentence:\n",
    "    print(x)"
   ]
  },
  {
   "cell_type": "code",
   "execution_count": 3,
   "id": "f7fb7bec",
   "metadata": {},
   "outputs": [],
   "source": [
    "counts = {\n",
    "    'a': 0,\n",
    "    'e': 0,\n",
    "    'i': 0,\n",
    "    'o': 0,\n",
    "    'u': 0,\n",
    "}\n",
    "\n",
    "for each_character in sentence:\n",
    "    each_character = each_character.lower()\n",
    "    if each_character in counts.keys():\n",
    "        counts[each_character] += 1\n",
    "# traditional way 1"
   ]
  },
  {
   "cell_type": "code",
   "execution_count": 4,
   "id": "18036893",
   "metadata": {},
   "outputs": [
    {
     "data": {
      "text/plain": [
       "{'a': 2, 'e': 4, 'i': 2, 'o': 4, 'u': 2}"
      ]
     },
     "execution_count": 4,
     "metadata": {},
     "output_type": "execute_result"
    }
   ],
   "source": [
    "counts"
   ]
  },
  {
   "cell_type": "code",
   "execution_count": 5,
   "id": "1dffcfd9",
   "metadata": {},
   "outputs": [
    {
     "data": {
      "text/plain": [
       "True"
      ]
     },
     "execution_count": 5,
     "metadata": {},
     "output_type": "execute_result"
    }
   ],
   "source": [
    "'u' in counts.keys()"
   ]
  },
  {
   "cell_type": "code",
   "execution_count": 6,
   "id": "15545339",
   "metadata": {},
   "outputs": [
    {
     "data": {
      "text/plain": [
       "2"
      ]
     },
     "execution_count": 6,
     "metadata": {},
     "output_type": "execute_result"
    }
   ],
   "source": [
    "counts['u']"
   ]
  },
  {
   "cell_type": "code",
   "execution_count": 7,
   "id": "2a6806c1",
   "metadata": {},
   "outputs": [
    {
     "data": {
      "text/plain": [
       "1"
      ]
     },
     "execution_count": 7,
     "metadata": {},
     "output_type": "execute_result"
    }
   ],
   "source": [
    "sentence.count('j')"
   ]
  },
  {
   "cell_type": "code",
   "execution_count": 8,
   "id": "438fb403",
   "metadata": {},
   "outputs": [],
   "source": [
    "# traditional way 2\n",
    "counts = {\n",
    "    'a': 0,\n",
    "    'e': 0,\n",
    "    'i': 0,\n",
    "    'o': 0,\n",
    "    'u': 0,\n",
    "}\n",
    "sentence = sentence.lower()\n",
    "for vowels in counts.keys():\n",
    "    counts[vowels] = sentence.count(vowels)"
   ]
  },
  {
   "cell_type": "code",
   "execution_count": 9,
   "id": "5b896ffe",
   "metadata": {},
   "outputs": [
    {
     "data": {
      "text/plain": [
       "{'a': 2, 'e': 4, 'i': 2, 'o': 4, 'u': 2}"
      ]
     },
     "execution_count": 9,
     "metadata": {},
     "output_type": "execute_result"
    }
   ],
   "source": [
    "counts"
   ]
  },
  {
   "cell_type": "markdown",
   "id": "c2573eac",
   "metadata": {},
   "source": [
    "# Program to count each characters in a string"
   ]
  },
  {
   "cell_type": "code",
   "execution_count": 10,
   "id": "af591be0",
   "metadata": {},
   "outputs": [
    {
     "name": "stdout",
     "output_type": "stream",
     "text": [
      "Enter something: uiyfkjghoulihkjbnm \n"
     ]
    },
    {
     "data": {
      "text/plain": [
       "Counter({'u': 2,\n",
       "         'i': 2,\n",
       "         'y': 1,\n",
       "         'f': 1,\n",
       "         'k': 2,\n",
       "         'j': 2,\n",
       "         'g': 1,\n",
       "         'h': 2,\n",
       "         'o': 1,\n",
       "         'l': 1,\n",
       "         'b': 1,\n",
       "         'n': 1,\n",
       "         'm': 1,\n",
       "         ' ': 1})"
      ]
     },
     "execution_count": 10,
     "metadata": {},
     "output_type": "execute_result"
    }
   ],
   "source": [
    "user_input = input('Enter something: ')\n",
    "user_input = user_input.lower()\n",
    "\n",
    "from collections import Counter\n",
    "\n",
    "Counter(user_input)"
   ]
  },
  {
   "cell_type": "markdown",
   "id": "ea82fc36",
   "metadata": {},
   "source": [
    "# Create a list where it's elements are square of it's index\n",
    "\n",
    "```\n",
    "[0, 1, 4, 9, 16, 25]\n",
    "```"
   ]
  },
  {
   "cell_type": "code",
   "execution_count": 11,
   "id": "c6e7e05f",
   "metadata": {},
   "outputs": [],
   "source": [
    "# traditional way\n",
    "li = []\n",
    "for x in range(6):\n",
    "    x = x * x\n",
    "    li.append(x)"
   ]
  },
  {
   "cell_type": "code",
   "execution_count": 12,
   "id": "3bd2b5c4",
   "metadata": {},
   "outputs": [
    {
     "data": {
      "text/plain": [
       "[0, 1, 4, 9, 16, 25]"
      ]
     },
     "execution_count": 12,
     "metadata": {},
     "output_type": "execute_result"
    }
   ],
   "source": [
    "li"
   ]
  },
  {
   "cell_type": "code",
   "execution_count": 13,
   "id": "a054b35b",
   "metadata": {},
   "outputs": [
    {
     "data": {
      "text/plain": [
       "[0, 1, 4, 9, 16, 25]"
      ]
     },
     "execution_count": 13,
     "metadata": {},
     "output_type": "execute_result"
    }
   ],
   "source": [
    "# python way\n",
    "\n",
    "[x * x for x in range(6)] # list comprehension"
   ]
  },
  {
   "cell_type": "code",
   "execution_count": 14,
   "id": "a2cc9d21",
   "metadata": {},
   "outputs": [
    {
     "data": {
      "text/plain": [
       "[0, 1, 4, 9, 16, 25]"
      ]
     },
     "execution_count": 14,
     "metadata": {},
     "output_type": "execute_result"
    }
   ],
   "source": [
    "[x * x for x in range(6)]"
   ]
  },
  {
   "cell_type": "code",
   "execution_count": 15,
   "id": "2f232876",
   "metadata": {},
   "outputs": [
    {
     "data": {
      "text/plain": [
       "[1, 2, 4, 8, 16, 32]"
      ]
     },
     "execution_count": 15,
     "metadata": {},
     "output_type": "execute_result"
    }
   ],
   "source": [
    "[2 ** x for x in range(6)] # Doubling the value"
   ]
  },
  {
   "cell_type": "markdown",
   "id": "be6b0c95",
   "metadata": {},
   "source": [
    "# Function\n",
    "\n",
    "```python\n",
    "def function_name(argument1, argument2, .....):\n",
    "    codes\n",
    "    \n",
    "    return val1, val2, val3, .......\n",
    "\n",
    "```"
   ]
  },
  {
   "cell_type": "code",
   "execution_count": 16,
   "id": "029b1324",
   "metadata": {},
   "outputs": [
    {
     "data": {
      "text/plain": [
       "144"
      ]
     },
     "execution_count": 16,
     "metadata": {},
     "output_type": "execute_result"
    }
   ],
   "source": [
    "# 2h(l + b)\n",
    "\n",
    "h = 4\n",
    "l = 10\n",
    "b = 8\n",
    "area = 2 * h * (l + b)\n",
    "area"
   ]
  },
  {
   "cell_type": "markdown",
   "id": "72fee391",
   "metadata": {},
   "source": [
    "* $f(x) = x^2 + 4$\n",
    "* $f(x, y)= x^2 + y^2$\n",
    "* $f(l, b, h)= 2 \\times h \\times  (l + b)$"
   ]
  },
  {
   "cell_type": "code",
   "execution_count": 29,
   "id": "cd774926",
   "metadata": {},
   "outputs": [],
   "source": [
    "def area_of_four_walls(length, bredth, height):\n",
    "    area_4_walls = 2 * height * (length + bredth)\n",
    "    print(f'inside the function {area_4_walls}')\n",
    "    return area_4_walls\n",
    "    "
   ]
  },
  {
   "cell_type": "code",
   "execution_count": 30,
   "id": "f58a3a28",
   "metadata": {},
   "outputs": [
    {
     "name": "stdout",
     "output_type": "stream",
     "text": [
      "inside the function 176\n"
     ]
    }
   ],
   "source": [
    "four_walls = area_of_four_walls(5, 6, 8)\n",
    "# order matters"
   ]
  },
  {
   "cell_type": "code",
   "execution_count": 31,
   "id": "e12a6739",
   "metadata": {},
   "outputs": [
    {
     "data": {
      "text/plain": [
       "176"
      ]
     },
     "execution_count": 31,
     "metadata": {},
     "output_type": "execute_result"
    }
   ],
   "source": [
    "four_walls"
   ]
  },
  {
   "cell_type": "code",
   "execution_count": 32,
   "id": "28b34b9d",
   "metadata": {},
   "outputs": [
    {
     "name": "stdout",
     "output_type": "stream",
     "text": [
      "inside the function 176\n"
     ]
    },
    {
     "data": {
      "text/plain": [
       "176"
      ]
     },
     "execution_count": 32,
     "metadata": {},
     "output_type": "execute_result"
    }
   ],
   "source": [
    "area_of_four_walls(height=8, length=5, bredth=6)\n",
    "# order does not matter if the values are specified"
   ]
  },
  {
   "cell_type": "code",
   "execution_count": null,
   "id": "85b7cb5a",
   "metadata": {},
   "outputs": [],
   "source": [
    "area_of_four_walls(5, height=8, bredth=6)"
   ]
  },
  {
   "cell_type": "code",
   "execution_count": null,
   "id": "b311bca0",
   "metadata": {},
   "outputs": [],
   "source": [
    "# area_of_four_walls(length=5, 6, 8)"
   ]
  },
  {
   "cell_type": "code",
   "execution_count": 33,
   "id": "d3861938",
   "metadata": {},
   "outputs": [],
   "source": [
    "def circle(r):\n",
    "    area = 22 / 7 * r * r\n",
    "    peri = 2 * 22 / 7 * r\n",
    "    return area, peri"
   ]
  },
  {
   "cell_type": "code",
   "execution_count": 34,
   "id": "660d7182",
   "metadata": {},
   "outputs": [],
   "source": [
    "values = circle(7)"
   ]
  },
  {
   "cell_type": "code",
   "execution_count": 35,
   "id": "2af15d65",
   "metadata": {},
   "outputs": [
    {
     "data": {
      "text/plain": [
       "(154.0, 44.0)"
      ]
     },
     "execution_count": 35,
     "metadata": {},
     "output_type": "execute_result"
    }
   ],
   "source": [
    "values"
   ]
  },
  {
   "cell_type": "code",
   "execution_count": 36,
   "id": "5f217786",
   "metadata": {},
   "outputs": [],
   "source": [
    "a = values[0]\n",
    "p = values[1]"
   ]
  },
  {
   "cell_type": "code",
   "execution_count": 37,
   "id": "b1e78069",
   "metadata": {},
   "outputs": [
    {
     "data": {
      "text/plain": [
       "154.0"
      ]
     },
     "execution_count": 37,
     "metadata": {},
     "output_type": "execute_result"
    }
   ],
   "source": [
    "a"
   ]
  },
  {
   "cell_type": "code",
   "execution_count": 38,
   "id": "352cfb54",
   "metadata": {},
   "outputs": [
    {
     "data": {
      "text/plain": [
       "44.0"
      ]
     },
     "execution_count": 38,
     "metadata": {},
     "output_type": "execute_result"
    }
   ],
   "source": [
    "p"
   ]
  },
  {
   "cell_type": "code",
   "execution_count": 39,
   "id": "cbd84342",
   "metadata": {},
   "outputs": [],
   "source": [
    "a, p = circle(8)"
   ]
  },
  {
   "cell_type": "code",
   "execution_count": 40,
   "id": "bc022824",
   "metadata": {},
   "outputs": [
    {
     "data": {
      "text/plain": [
       "201.14285714285714"
      ]
     },
     "execution_count": 40,
     "metadata": {},
     "output_type": "execute_result"
    }
   ],
   "source": [
    "a"
   ]
  },
  {
   "cell_type": "code",
   "execution_count": 41,
   "id": "8109cd40",
   "metadata": {},
   "outputs": [
    {
     "data": {
      "text/plain": [
       "50.285714285714285"
      ]
     },
     "execution_count": 41,
     "metadata": {},
     "output_type": "execute_result"
    }
   ],
   "source": [
    "p"
   ]
  },
  {
   "cell_type": "code",
   "execution_count": 42,
   "id": "102f10e3",
   "metadata": {},
   "outputs": [
    {
     "data": {
      "text/plain": [
       "50.286"
      ]
     },
     "execution_count": 42,
     "metadata": {},
     "output_type": "execute_result"
    }
   ],
   "source": [
    "round(p, 3)"
   ]
  },
  {
   "cell_type": "code",
   "execution_count": null,
   "id": "4603923f",
   "metadata": {},
   "outputs": [],
   "source": []
  }
 ],
 "metadata": {
  "kernelspec": {
   "display_name": "Python 3 (ipykernel)",
   "language": "python",
   "name": "python3"
  },
  "language_info": {
   "codemirror_mode": {
    "name": "ipython",
    "version": 3
   },
   "file_extension": ".py",
   "mimetype": "text/x-python",
   "name": "python",
   "nbconvert_exporter": "python",
   "pygments_lexer": "ipython3",
   "version": "3.9.13"
  }
 },
 "nbformat": 4,
 "nbformat_minor": 5
}
