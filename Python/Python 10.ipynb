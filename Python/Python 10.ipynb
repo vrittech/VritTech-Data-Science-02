{
 "cells": [
  {
   "cell_type": "code",
   "execution_count": 1,
   "id": "200dab72-cca0-4143-99a4-6e1fbbe88aba",
   "metadata": {},
   "outputs": [],
   "source": [
    "class SimpleCalc:\n",
    "    def __init__(self, a, b):\n",
    "        self.a = a\n",
    "        self.b = b\n",
    "    def addition(self,):\n",
    "        print(f'{self.a} + {self.b} = {self.a + self.b}')\n",
    "    def sunbtraction(self,):\n",
    "        print(f'{self.a} - {self.b} = {self.a - self.b}')\n",
    "    def multiplication(self,):\n",
    "        print(f'{self.a} X {self.b} = {self.a * self.b}')\n",
    "    def division(self,):\n",
    "        try:\n",
    "            print(f'{self.a} / {self.b} = {self.a / self.b}')\n",
    "        except ZeroDivisionError:\n",
    "            print('Cannot divide by zero.')\n",
    "        "
   ]
  },
  {
   "cell_type": "code",
   "execution_count": 2,
   "id": "abaf9267-6b3d-4b48-9e35-42c05c4db4b3",
   "metadata": {},
   "outputs": [],
   "source": [
    "class ComplexCalc(SimpleCalc):\n",
    "    def __init__(self, a, b):\n",
    "        super().__init__(a, b)\n",
    "\n",
    "    def hcf(self, ):\n",
    "        x = self.a\n",
    "        y = self.b\n",
    "\n",
    "        while True:\n",
    "            rem = x % y\n",
    "            if rem == 0:\n",
    "                print(f'HCF of {self.a} and {self.b} is {y}')\n",
    "                break\n",
    "            x = y\n",
    "            y = rem"
   ]
  },
  {
   "cell_type": "code",
   "execution_count": 3,
   "id": "c98b7e18-8d48-4cf7-bd3c-b0ee93e2c588",
   "metadata": {},
   "outputs": [],
   "source": [
    "calc = ComplexCalc(21, 9)"
   ]
  },
  {
   "cell_type": "code",
   "execution_count": 4,
   "id": "598762fa-87eb-46e2-b2ca-845fcb290bd9",
   "metadata": {},
   "outputs": [
    {
     "name": "stdout",
     "output_type": "stream",
     "text": [
      "21 + 9 = 30\n"
     ]
    }
   ],
   "source": [
    "calc.addition()"
   ]
  },
  {
   "cell_type": "code",
   "execution_count": 5,
   "id": "ee5e83ba-4e4a-41ad-aa46-ed146b19a174",
   "metadata": {},
   "outputs": [
    {
     "name": "stdout",
     "output_type": "stream",
     "text": [
      "21 / 9 = 2.3333333333333335\n"
     ]
    }
   ],
   "source": [
    "calc.division()"
   ]
  },
  {
   "cell_type": "code",
   "execution_count": 6,
   "id": "cb8b051f-1892-4cfd-9cbc-8dfba9a3a504",
   "metadata": {},
   "outputs": [
    {
     "name": "stdout",
     "output_type": "stream",
     "text": [
      "HCF of 21 and 9 is 3\n"
     ]
    }
   ],
   "source": [
    "calc.hcf()"
   ]
  },
  {
   "cell_type": "code",
   "execution_count": 7,
   "id": "4006d278-c49e-4d23-bb36-6e8b5cbb952a",
   "metadata": {},
   "outputs": [],
   "source": [
    "class Polygon:\n",
    "    def __init__(self, sides, side_length):\n",
    "        self.sides = sides\n",
    "        self.side_length = side_length\n",
    "\n",
    "    def perimeter(self, ):\n",
    "        return self.sides * self.side_length"
   ]
  },
  {
   "cell_type": "code",
   "execution_count": 8,
   "id": "ec386cab-65cb-4874-9e7b-43d00c7a5fb9",
   "metadata": {},
   "outputs": [],
   "source": [
    "from math import sqrt"
   ]
  },
  {
   "cell_type": "code",
   "execution_count": 9,
   "id": "ff4cef58-ea95-4bda-b737-d265dd0da247",
   "metadata": {},
   "outputs": [],
   "source": [
    "class Triangle(Polygon):\n",
    "    def __init__(self, length, name='Triangle', ):\n",
    "        self.name = name\n",
    "        super().__init__(sides=3, side_length=length)\n",
    "    def area(self, ):\n",
    "        a = sqrt(3) / 4 * self.side_length ** 2\n",
    "        return a\n",
    "class Hexagon(Polygon):\n",
    "    def __init__(self, length, name='Hexagon', ) :\n",
    "        self.name = name\n",
    "        super().__init__(sides=6, side_length=length)\n",
    "    def area(self, ):\n",
    "        a = 3 * sqrt(3) * self.side_length ** 2 / 2\n",
    "        return a"
   ]
  },
  {
   "cell_type": "code",
   "execution_count": 10,
   "id": "5c01d033-569b-40f0-8acc-6a5acf532cc3",
   "metadata": {},
   "outputs": [],
   "source": [
    "hex = Hexagon(25)"
   ]
  },
  {
   "cell_type": "code",
   "execution_count": 11,
   "id": "4b1774ee-53b8-4c0f-a5b7-bf3bea860bf2",
   "metadata": {},
   "outputs": [
    {
     "data": {
      "text/plain": [
       "'Hexagon'"
      ]
     },
     "execution_count": 11,
     "metadata": {},
     "output_type": "execute_result"
    }
   ],
   "source": [
    "hex.name"
   ]
  },
  {
   "cell_type": "code",
   "execution_count": 12,
   "id": "3aa18cf7-2247-40fc-bf1c-2ceb230864a6",
   "metadata": {},
   "outputs": [
    {
     "data": {
      "text/plain": [
       "1623.7976320958226"
      ]
     },
     "execution_count": 12,
     "metadata": {},
     "output_type": "execute_result"
    }
   ],
   "source": [
    "hex.area()"
   ]
  },
  {
   "cell_type": "code",
   "execution_count": 13,
   "id": "8ab39ec4-32c1-4e17-8b04-f6371f829381",
   "metadata": {},
   "outputs": [
    {
     "data": {
      "text/plain": [
       "150"
      ]
     },
     "execution_count": 13,
     "metadata": {},
     "output_type": "execute_result"
    }
   ],
   "source": [
    "hex.perimeter()"
   ]
  },
  {
   "cell_type": "markdown",
   "id": "9ec5f457-939c-4504-8411-fd24a0a139f0",
   "metadata": {},
   "source": [
    "# Random in python"
   ]
  },
  {
   "cell_type": "code",
   "execution_count": 14,
   "id": "ef179f9a-e9cb-4919-928a-ff880436234f",
   "metadata": {},
   "outputs": [],
   "source": [
    "import random"
   ]
  },
  {
   "cell_type": "code",
   "execution_count": 15,
   "id": "a0595b03-f53f-4031-89be-5dcb9858345d",
   "metadata": {},
   "outputs": [],
   "source": [
    "random.seed(666)"
   ]
  },
  {
   "cell_type": "code",
   "execution_count": 16,
   "id": "5caeee70-8307-4407-8904-3c8e8223fff8",
   "metadata": {},
   "outputs": [
    {
     "data": {
      "text/plain": [
       "59"
      ]
     },
     "execution_count": 16,
     "metadata": {},
     "output_type": "execute_result"
    }
   ],
   "source": [
    "random.randint(1, 100) # randint(min, max)"
   ]
  },
  {
   "cell_type": "code",
   "execution_count": 17,
   "id": "b74d7917-794c-465e-934b-2125576512db",
   "metadata": {},
   "outputs": [
    {
     "data": {
      "text/plain": [
       "[49, 56, 37, 65, 2, 71, 71, 100, 92, 43]"
      ]
     },
     "execution_count": 17,
     "metadata": {},
     "output_type": "execute_result"
    }
   ],
   "source": [
    "random_number_list = [random.randint(1, 100) for i in range(10)]\n",
    "random_number_list"
   ]
  },
  {
   "cell_type": "code",
   "execution_count": 18,
   "id": "09014c35-b963-48f4-ad0d-41c6f7aeb9d2",
   "metadata": {},
   "outputs": [],
   "source": [
    "moves = ['left', 'right', 'up', 'down']"
   ]
  },
  {
   "cell_type": "code",
   "execution_count": 22,
   "id": "fc3d91e7-9203-49d1-8ab3-51d0aa0ca9bb",
   "metadata": {},
   "outputs": [
    {
     "data": {
      "text/plain": [
       "'down'"
      ]
     },
     "execution_count": 22,
     "metadata": {},
     "output_type": "execute_result"
    }
   ],
   "source": [
    "random.choice(moves)"
   ]
  },
  {
   "cell_type": "code",
   "execution_count": 26,
   "id": "d8fa0758-c862-492f-83f1-13da958b10d7",
   "metadata": {},
   "outputs": [
    {
     "data": {
      "text/plain": [
       "['up', 'up']"
      ]
     },
     "execution_count": 26,
     "metadata": {},
     "output_type": "execute_result"
    }
   ],
   "source": [
    "random.choices(moves, k=2)"
   ]
  },
  {
   "cell_type": "markdown",
   "id": "5021986a-220b-40a8-8feb-932de9a63849",
   "metadata": {},
   "source": [
    "# Permutations and Combinations"
   ]
  },
  {
   "cell_type": "code",
   "execution_count": 27,
   "id": "26bbf347-8175-42a6-8e4b-89ac34dcfe0d",
   "metadata": {},
   "outputs": [],
   "source": [
    "from itertools import permutations, combinations"
   ]
  },
  {
   "cell_type": "code",
   "execution_count": 28,
   "id": "21654435-e785-4ffa-951f-b7a2b8a319b2",
   "metadata": {},
   "outputs": [],
   "source": [
    "names = ['Hari Bahadur', 'Ghana Shyam', 'Radha Piyari', 'Madan Bahadur', 'Babu Rao']"
   ]
  },
  {
   "cell_type": "code",
   "execution_count": 32,
   "id": "cb4389ab-6776-48e1-832a-ea6ed8d5c641",
   "metadata": {},
   "outputs": [],
   "source": [
    "permut_list = permutations(names, 3)"
   ]
  },
  {
   "cell_type": "code",
   "execution_count": 33,
   "id": "171c56e4-e631-4777-b1ad-6bf2520afedf",
   "metadata": {},
   "outputs": [],
   "source": [
    "permut_list = list(permut_list)"
   ]
  },
  {
   "cell_type": "code",
   "execution_count": 34,
   "id": "4780090f-76ce-4d0d-90a6-e3003a238a19",
   "metadata": {},
   "outputs": [
    {
     "data": {
      "text/plain": [
       "[('Hari Bahadur', 'Ghana Shyam', 'Radha Piyari'),\n",
       " ('Hari Bahadur', 'Ghana Shyam', 'Madan Bahadur'),\n",
       " ('Hari Bahadur', 'Ghana Shyam', 'Babu Rao'),\n",
       " ('Hari Bahadur', 'Radha Piyari', 'Ghana Shyam'),\n",
       " ('Hari Bahadur', 'Radha Piyari', 'Madan Bahadur'),\n",
       " ('Hari Bahadur', 'Radha Piyari', 'Babu Rao'),\n",
       " ('Hari Bahadur', 'Madan Bahadur', 'Ghana Shyam'),\n",
       " ('Hari Bahadur', 'Madan Bahadur', 'Radha Piyari'),\n",
       " ('Hari Bahadur', 'Madan Bahadur', 'Babu Rao'),\n",
       " ('Hari Bahadur', 'Babu Rao', 'Ghana Shyam'),\n",
       " ('Hari Bahadur', 'Babu Rao', 'Radha Piyari'),\n",
       " ('Hari Bahadur', 'Babu Rao', 'Madan Bahadur'),\n",
       " ('Ghana Shyam', 'Hari Bahadur', 'Radha Piyari'),\n",
       " ('Ghana Shyam', 'Hari Bahadur', 'Madan Bahadur'),\n",
       " ('Ghana Shyam', 'Hari Bahadur', 'Babu Rao'),\n",
       " ('Ghana Shyam', 'Radha Piyari', 'Hari Bahadur'),\n",
       " ('Ghana Shyam', 'Radha Piyari', 'Madan Bahadur'),\n",
       " ('Ghana Shyam', 'Radha Piyari', 'Babu Rao'),\n",
       " ('Ghana Shyam', 'Madan Bahadur', 'Hari Bahadur'),\n",
       " ('Ghana Shyam', 'Madan Bahadur', 'Radha Piyari'),\n",
       " ('Ghana Shyam', 'Madan Bahadur', 'Babu Rao'),\n",
       " ('Ghana Shyam', 'Babu Rao', 'Hari Bahadur'),\n",
       " ('Ghana Shyam', 'Babu Rao', 'Radha Piyari'),\n",
       " ('Ghana Shyam', 'Babu Rao', 'Madan Bahadur'),\n",
       " ('Radha Piyari', 'Hari Bahadur', 'Ghana Shyam'),\n",
       " ('Radha Piyari', 'Hari Bahadur', 'Madan Bahadur'),\n",
       " ('Radha Piyari', 'Hari Bahadur', 'Babu Rao'),\n",
       " ('Radha Piyari', 'Ghana Shyam', 'Hari Bahadur'),\n",
       " ('Radha Piyari', 'Ghana Shyam', 'Madan Bahadur'),\n",
       " ('Radha Piyari', 'Ghana Shyam', 'Babu Rao'),\n",
       " ('Radha Piyari', 'Madan Bahadur', 'Hari Bahadur'),\n",
       " ('Radha Piyari', 'Madan Bahadur', 'Ghana Shyam'),\n",
       " ('Radha Piyari', 'Madan Bahadur', 'Babu Rao'),\n",
       " ('Radha Piyari', 'Babu Rao', 'Hari Bahadur'),\n",
       " ('Radha Piyari', 'Babu Rao', 'Ghana Shyam'),\n",
       " ('Radha Piyari', 'Babu Rao', 'Madan Bahadur'),\n",
       " ('Madan Bahadur', 'Hari Bahadur', 'Ghana Shyam'),\n",
       " ('Madan Bahadur', 'Hari Bahadur', 'Radha Piyari'),\n",
       " ('Madan Bahadur', 'Hari Bahadur', 'Babu Rao'),\n",
       " ('Madan Bahadur', 'Ghana Shyam', 'Hari Bahadur'),\n",
       " ('Madan Bahadur', 'Ghana Shyam', 'Radha Piyari'),\n",
       " ('Madan Bahadur', 'Ghana Shyam', 'Babu Rao'),\n",
       " ('Madan Bahadur', 'Radha Piyari', 'Hari Bahadur'),\n",
       " ('Madan Bahadur', 'Radha Piyari', 'Ghana Shyam'),\n",
       " ('Madan Bahadur', 'Radha Piyari', 'Babu Rao'),\n",
       " ('Madan Bahadur', 'Babu Rao', 'Hari Bahadur'),\n",
       " ('Madan Bahadur', 'Babu Rao', 'Ghana Shyam'),\n",
       " ('Madan Bahadur', 'Babu Rao', 'Radha Piyari'),\n",
       " ('Babu Rao', 'Hari Bahadur', 'Ghana Shyam'),\n",
       " ('Babu Rao', 'Hari Bahadur', 'Radha Piyari'),\n",
       " ('Babu Rao', 'Hari Bahadur', 'Madan Bahadur'),\n",
       " ('Babu Rao', 'Ghana Shyam', 'Hari Bahadur'),\n",
       " ('Babu Rao', 'Ghana Shyam', 'Radha Piyari'),\n",
       " ('Babu Rao', 'Ghana Shyam', 'Madan Bahadur'),\n",
       " ('Babu Rao', 'Radha Piyari', 'Hari Bahadur'),\n",
       " ('Babu Rao', 'Radha Piyari', 'Ghana Shyam'),\n",
       " ('Babu Rao', 'Radha Piyari', 'Madan Bahadur'),\n",
       " ('Babu Rao', 'Madan Bahadur', 'Hari Bahadur'),\n",
       " ('Babu Rao', 'Madan Bahadur', 'Ghana Shyam'),\n",
       " ('Babu Rao', 'Madan Bahadur', 'Radha Piyari')]"
      ]
     },
     "execution_count": 34,
     "metadata": {},
     "output_type": "execute_result"
    }
   ],
   "source": [
    "permut_list"
   ]
  },
  {
   "cell_type": "code",
   "execution_count": 35,
   "id": "71a732b1-c9f7-4c3f-9b82-0fa2d0ca9e6e",
   "metadata": {},
   "outputs": [
    {
     "data": {
      "text/plain": [
       "60"
      ]
     },
     "execution_count": 35,
     "metadata": {},
     "output_type": "execute_result"
    }
   ],
   "source": [
    "len(permut_list)"
   ]
  },
  {
   "cell_type": "markdown",
   "id": "8b01692a-29a6-430b-b7af-a0f1d21f3d95",
   "metadata": {},
   "source": [
    "* Permutation = $\\frac{N!}{(N-R)!}$\n",
    "* Combination = $\\frac{N!}{(N-R)!R!}$"
   ]
  },
  {
   "cell_type": "code",
   "execution_count": 36,
   "id": "efcc216d-b2d2-43d0-8d6e-1e8bc5353758",
   "metadata": {},
   "outputs": [],
   "source": [
    "comb_list = combinations(names, 3)\n",
    "comb_list = list(comb_list)"
   ]
  },
  {
   "cell_type": "code",
   "execution_count": 37,
   "id": "5fbeb98a-c435-4441-8931-b157e086b22b",
   "metadata": {},
   "outputs": [
    {
     "data": {
      "text/plain": [
       "[('Hari Bahadur', 'Ghana Shyam', 'Radha Piyari'),\n",
       " ('Hari Bahadur', 'Ghana Shyam', 'Madan Bahadur'),\n",
       " ('Hari Bahadur', 'Ghana Shyam', 'Babu Rao'),\n",
       " ('Hari Bahadur', 'Radha Piyari', 'Madan Bahadur'),\n",
       " ('Hari Bahadur', 'Radha Piyari', 'Babu Rao'),\n",
       " ('Hari Bahadur', 'Madan Bahadur', 'Babu Rao'),\n",
       " ('Ghana Shyam', 'Radha Piyari', 'Madan Bahadur'),\n",
       " ('Ghana Shyam', 'Radha Piyari', 'Babu Rao'),\n",
       " ('Ghana Shyam', 'Madan Bahadur', 'Babu Rao'),\n",
       " ('Radha Piyari', 'Madan Bahadur', 'Babu Rao')]"
      ]
     },
     "execution_count": 37,
     "metadata": {},
     "output_type": "execute_result"
    }
   ],
   "source": [
    "comb_list"
   ]
  },
  {
   "cell_type": "markdown",
   "id": "354e38c4-99a0-4b6b-886d-422270bf2a5e",
   "metadata": {},
   "source": [
    "# SQL Practice"
   ]
  },
  {
   "cell_type": "code",
   "execution_count": 38,
   "id": "93f8dacb-ca58-424b-8e8d-9bdf31b575f1",
   "metadata": {},
   "outputs": [],
   "source": [
    "import sqlite3"
   ]
  },
  {
   "cell_type": "code",
   "execution_count": 39,
   "id": "e4a99f53-3bec-4d92-86a5-a4063567aa41",
   "metadata": {},
   "outputs": [],
   "source": [
    "# creating a db connection\n",
    "conn = sqlite3.connect('db.sqlite3')"
   ]
  },
  {
   "cell_type": "code",
   "execution_count": 40,
   "id": "517076da-23c5-4b7b-8b9d-df2de5bd6ceb",
   "metadata": {},
   "outputs": [],
   "source": [
    "cur = conn.cursor()"
   ]
  },
  {
   "cell_type": "code",
   "execution_count": 41,
   "id": "477a49b5-0380-4810-91d1-5c87ab2e21ad",
   "metadata": {},
   "outputs": [
    {
     "data": {
      "text/plain": [
       "<sqlite3.Cursor at 0x22a2ec29540>"
      ]
     },
     "execution_count": 41,
     "metadata": {},
     "output_type": "execute_result"
    }
   ],
   "source": [
    "create = \"\"\"\n",
    "CREATE TABLE IF NOT EXISTS USER(\n",
    "    ID INTEGER PRIMARY KEY AUTOINCREMENT,\n",
    "    NAME STRING NOT NULL,\n",
    "    ADDRESS STRING NOT NULL,\n",
    "    AGE INTEGER NULL,\n",
    "    GENDER STRING NULL\n",
    ");\n",
    "\"\"\"\n",
    "cur.execute(create)"
   ]
  },
  {
   "cell_type": "code",
   "execution_count": 42,
   "id": "fedb7d8c-5f67-4a9d-bb06-ad6209a47aad",
   "metadata": {},
   "outputs": [],
   "source": [
    "read = 'SELECT * FROM USER;' # SELECTING EVERYTHING FROM USER TABLE\n",
    "data = cur.execute(read)"
   ]
  },
  {
   "cell_type": "code",
   "execution_count": 43,
   "id": "645060d1-79b6-4952-a2a8-d7a5a7b0abc7",
   "metadata": {},
   "outputs": [
    {
     "data": {
      "text/plain": [
       "[]"
      ]
     },
     "execution_count": 43,
     "metadata": {},
     "output_type": "execute_result"
    }
   ],
   "source": [
    "data.fetchall()"
   ]
  },
  {
   "cell_type": "code",
   "execution_count": null,
   "id": "b463db5d-ed5c-4ac1-8c4b-8c9c75fe462c",
   "metadata": {},
   "outputs": [],
   "source": []
  }
 ],
 "metadata": {
  "kernelspec": {
   "display_name": "Python 3 (ipykernel)",
   "language": "python",
   "name": "python3"
  },
  "language_info": {
   "codemirror_mode": {
    "name": "ipython",
    "version": 3
   },
   "file_extension": ".py",
   "mimetype": "text/x-python",
   "name": "python",
   "nbconvert_exporter": "python",
   "pygments_lexer": "ipython3",
   "version": "3.10.11"
  }
 },
 "nbformat": 4,
 "nbformat_minor": 5
}
