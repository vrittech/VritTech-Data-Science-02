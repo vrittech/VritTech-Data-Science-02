{
 "cells": [
  {
   "cell_type": "markdown",
   "id": "da2be741-bab1-457e-b1ea-23991131a905",
   "metadata": {},
   "source": [
    "# Class and Objects\n",
    "\n",
    "```python\n",
    "class ClassName:\n",
    "    def class_functions():\n",
    "        codes\n",
    "\n",
    "```"
   ]
  },
  {
   "cell_type": "code",
   "execution_count": 6,
   "id": "250c50d9-d2c9-4e8c-81f8-56d545983767",
   "metadata": {},
   "outputs": [],
   "source": [
    "class HelloWorld: # This is HelloWorld class\n",
    "    def send_greetings(self, name):\n",
    "        print(f'Hello to you {name}')\n",
    "\n",
    "    def send_goodbye(self, name):\n",
    "        print(f'Goodbye to you {name}')\n",
    "        "
   ]
  },
  {
   "cell_type": "code",
   "execution_count": 7,
   "id": "56a52639-96a9-4638-a81d-24b157ad0178",
   "metadata": {},
   "outputs": [],
   "source": [
    "hello_world_object = HelloWorld()\n",
    "# A copy HelloWorld class is stored in hello_world_object variable\n",
    "# hello_world_object variable is an object of HelloWorld class"
   ]
  },
  {
   "cell_type": "code",
   "execution_count": 8,
   "id": "7fcbf7fa-1937-49c2-b4b0-6212aeea26ec",
   "metadata": {},
   "outputs": [
    {
     "data": {
      "text/plain": [
       "__main__.HelloWorld"
      ]
     },
     "execution_count": 8,
     "metadata": {},
     "output_type": "execute_result"
    }
   ],
   "source": [
    "type(hello_world_object)"
   ]
  },
  {
   "cell_type": "code",
   "execution_count": 9,
   "id": "960a0a42-fb45-4aaf-832a-3267ba74a6a9",
   "metadata": {},
   "outputs": [
    {
     "name": "stdout",
     "output_type": "stream",
     "text": [
      "Hello to you Hari Bahadur\n"
     ]
    }
   ],
   "source": [
    "hello_world_object.send_greetings('Hari Bahadur')"
   ]
  },
  {
   "cell_type": "code",
   "execution_count": 10,
   "id": "3cde3379-0968-4232-9d46-53689c88f5c0",
   "metadata": {},
   "outputs": [
    {
     "name": "stdout",
     "output_type": "stream",
     "text": [
      "Goodbye to you Hari Bahadur\n"
     ]
    }
   ],
   "source": [
    "hello_world_object.send_goodbye('Hari Bahadur')"
   ]
  },
  {
   "cell_type": "code",
   "execution_count": 23,
   "id": "da58b4bc-4ca7-4ff2-83d2-b6a793bffbac",
   "metadata": {},
   "outputs": [],
   "source": [
    "class Vehicles:\n",
    "    def __init__(self, wheels, brand, vehicle_type, seats, engine, fuel):\n",
    "        self.wheels = wheels\n",
    "        self.brand = brand\n",
    "        self.seats = seats\n",
    "        self.engine = engine\n",
    "        self.v_type = vehicle_type\n",
    "        self.indhan = fuel\n",
    "        \n",
    "\n",
    "    def display_information(self, ):\n",
    "        message = f'''\n",
    "        This is a {self.v_type} from {self.brand}.\n",
    "        This has {self.wheels} wheels and {self.seats} seats.\n",
    "        This has a {self.engine} engine.\n",
    "        Thi takes {self.indhan} as fuel.\n",
    "        '''\n",
    "        print(message)"
   ]
  },
  {
   "cell_type": "code",
   "execution_count": 24,
   "id": "cce213aa-5b13-4d21-b407-8778508ad466",
   "metadata": {},
   "outputs": [],
   "source": [
    "veh1 = Vehicles(wheels=4, brand='Ferrari', vehicle_type='SUV', seats=4, engine='V12', fuel='Petrol')"
   ]
  },
  {
   "cell_type": "code",
   "execution_count": 25,
   "id": "23748996-ce55-4953-aab9-adb671c768fd",
   "metadata": {},
   "outputs": [
    {
     "data": {
      "text/plain": [
       "'V12'"
      ]
     },
     "execution_count": 25,
     "metadata": {},
     "output_type": "execute_result"
    }
   ],
   "source": [
    "veh1.engine"
   ]
  },
  {
   "cell_type": "code",
   "execution_count": 26,
   "id": "a1aee9e7-a732-4479-8489-3bff71606a87",
   "metadata": {},
   "outputs": [
    {
     "data": {
      "text/plain": [
       "'Ferrari'"
      ]
     },
     "execution_count": 26,
     "metadata": {},
     "output_type": "execute_result"
    }
   ],
   "source": [
    "veh1.brand"
   ]
  },
  {
   "cell_type": "code",
   "execution_count": 27,
   "id": "0441bdf0-8202-40b3-80c1-04b755c2990a",
   "metadata": {},
   "outputs": [
    {
     "data": {
      "text/plain": [
       "4"
      ]
     },
     "execution_count": 27,
     "metadata": {},
     "output_type": "execute_result"
    }
   ],
   "source": [
    "veh1.seats"
   ]
  },
  {
   "cell_type": "code",
   "execution_count": 28,
   "id": "44e7efcc-68e0-4165-9151-a5e63062e6e3",
   "metadata": {},
   "outputs": [
    {
     "data": {
      "text/plain": [
       "'Petrol'"
      ]
     },
     "execution_count": 28,
     "metadata": {},
     "output_type": "execute_result"
    }
   ],
   "source": [
    "veh1.indhan"
   ]
  },
  {
   "cell_type": "code",
   "execution_count": 29,
   "id": "f70baf76-5f67-4cec-ad44-b5353c650a30",
   "metadata": {},
   "outputs": [
    {
     "name": "stdout",
     "output_type": "stream",
     "text": [
      "\n",
      "        This is a SUV from Ferrari.\n",
      "        This has 4 wheels and 4 seats.\n",
      "        This has a V12 engine.\n",
      "        Thi takes Petrol as fuel.\n",
      "        \n"
     ]
    }
   ],
   "source": [
    "veh1.display_information()"
   ]
  },
  {
   "cell_type": "code",
   "execution_count": null,
   "id": "207187ec-d40c-4aca-bf56-2e9703f02194",
   "metadata": {},
   "outputs": [],
   "source": []
  },
  {
   "cell_type": "code",
   "execution_count": 30,
   "id": "d8f443d2-5757-47e5-b0e4-4fb363e170f0",
   "metadata": {},
   "outputs": [],
   "source": [
    "class Person:\n",
    "    def __init__(self, name, age, gender, houses=1, atm_pin=1234):\n",
    "        self.naam = name\n",
    "        self.age = age\n",
    "        self.gender = gender\n",
    "        self.houses = houses\n",
    "        self.atm_pin = atm_pin\n",
    "\n",
    "    def display_info(self, ):\n",
    "        message = f'''\n",
    "        Hello, I am {self.naam}, I am {self.age} and I am {self.gender}\n",
    "        '''\n",
    "        print(message)\n"
   ]
  },
  {
   "cell_type": "code",
   "execution_count": 31,
   "id": "9824c661-dccc-460e-afa5-7735cb39cd9f",
   "metadata": {},
   "outputs": [],
   "source": [
    "per1 = Person('Hari Bahadur', 50, 'male')"
   ]
  },
  {
   "cell_type": "code",
   "execution_count": 32,
   "id": "ef024352-3153-463e-9dd4-105830edc474",
   "metadata": {},
   "outputs": [
    {
     "data": {
      "text/plain": [
       "'male'"
      ]
     },
     "execution_count": 32,
     "metadata": {},
     "output_type": "execute_result"
    }
   ],
   "source": [
    "per1.gender"
   ]
  },
  {
   "cell_type": "code",
   "execution_count": 33,
   "id": "e053ed82-5a50-434c-a57d-fd57ad322529",
   "metadata": {},
   "outputs": [
    {
     "data": {
      "text/plain": [
       "'Hari Bahadur'"
      ]
     },
     "execution_count": 33,
     "metadata": {},
     "output_type": "execute_result"
    }
   ],
   "source": [
    "per1.naam"
   ]
  },
  {
   "cell_type": "code",
   "execution_count": 34,
   "id": "5aaf7757-c36b-4142-becf-3c7d01f143a3",
   "metadata": {},
   "outputs": [
    {
     "name": "stdout",
     "output_type": "stream",
     "text": [
      "\n",
      "        Hello, I am Hari Bahadur, I am 50 and I am male\n",
      "        \n"
     ]
    }
   ],
   "source": [
    "per1.display_info()"
   ]
  },
  {
   "cell_type": "code",
   "execution_count": 35,
   "id": "fe88c20b-7dcb-4ab6-9b5b-b848cce77795",
   "metadata": {},
   "outputs": [
    {
     "data": {
      "text/plain": [
       "'Hari Bahadur'"
      ]
     },
     "execution_count": 35,
     "metadata": {},
     "output_type": "execute_result"
    }
   ],
   "source": [
    "per1.naam"
   ]
  },
  {
   "cell_type": "code",
   "execution_count": 36,
   "id": "a4845739-edca-40f6-8d3c-33450235f9cd",
   "metadata": {},
   "outputs": [],
   "source": [
    "a = 5"
   ]
  },
  {
   "cell_type": "code",
   "execution_count": 37,
   "id": "f5811d29-f426-49c6-9ec3-70b4790dea05",
   "metadata": {},
   "outputs": [],
   "source": [
    "a = 7"
   ]
  },
  {
   "cell_type": "code",
   "execution_count": 38,
   "id": "95c3ca99-e63f-4022-9ca1-921f171ad43f",
   "metadata": {},
   "outputs": [
    {
     "data": {
      "text/plain": [
       "'Hari Bahadur'"
      ]
     },
     "execution_count": 38,
     "metadata": {},
     "output_type": "execute_result"
    }
   ],
   "source": [
    "per1.naam"
   ]
  },
  {
   "cell_type": "code",
   "execution_count": 39,
   "id": "ad942b6c-1aac-4f5e-b7f0-c9a112899232",
   "metadata": {},
   "outputs": [],
   "source": [
    "per1.naam = 'Ram Maya'"
   ]
  },
  {
   "cell_type": "code",
   "execution_count": 40,
   "id": "d47fdb73-9212-4180-96f7-3ed89cfe7e81",
   "metadata": {},
   "outputs": [
    {
     "name": "stdout",
     "output_type": "stream",
     "text": [
      "\n",
      "        Hello, I am Ram Maya, I am 50 and I am male\n",
      "        \n"
     ]
    }
   ],
   "source": [
    "per1.display_info()"
   ]
  },
  {
   "cell_type": "code",
   "execution_count": null,
   "id": "2f14b1ff-3c8d-4fec-8565-ac4dcce0d2ad",
   "metadata": {},
   "outputs": [],
   "source": []
  }
 ],
 "metadata": {
  "kernelspec": {
   "display_name": "Python 3 (ipykernel)",
   "language": "python",
   "name": "python3"
  },
  "language_info": {
   "codemirror_mode": {
    "name": "ipython",
    "version": 3
   },
   "file_extension": ".py",
   "mimetype": "text/x-python",
   "name": "python",
   "nbconvert_exporter": "python",
   "pygments_lexer": "ipython3",
   "version": "3.10.11"
  }
 },
 "nbformat": 4,
 "nbformat_minor": 5
}
