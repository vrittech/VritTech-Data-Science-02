{
 "cells": [
  {
   "cell_type": "markdown",
   "id": "edc3cd0b",
   "metadata": {},
   "source": [
    "# Looping"
   ]
  },
  {
   "cell_type": "code",
   "execution_count": null,
   "id": "a03e7937",
   "metadata": {},
   "outputs": [],
   "source": [
    "# while 2 < 3:\n",
    "#     print('hello')"
   ]
  },
  {
   "cell_type": "code",
   "execution_count": 1,
   "id": "d37547f0",
   "metadata": {},
   "outputs": [
    {
     "data": {
      "text/plain": [
       "[0, 1, 2, 3, 4]"
      ]
     },
     "execution_count": 1,
     "metadata": {},
     "output_type": "execute_result"
    }
   ],
   "source": [
    "# range(start, stop, step)\n",
    "list(range(5))"
   ]
  },
  {
   "cell_type": "code",
   "execution_count": 2,
   "id": "9e8a9f8b",
   "metadata": {},
   "outputs": [
    {
     "name": "stdout",
     "output_type": "stream",
     "text": [
      "0\n",
      "2\n",
      "4\n",
      "6\n",
      "8\n"
     ]
    }
   ],
   "source": [
    "for x in range(0, 10, 2):\n",
    "    print(x)"
   ]
  },
  {
   "cell_type": "code",
   "execution_count": 3,
   "id": "93ff32f9",
   "metadata": {},
   "outputs": [
    {
     "name": "stdout",
     "output_type": "stream",
     "text": [
      "x is tracking: a\n",
      "x is tracking: e\n",
      "x is tracking: i\n",
      "x is tracking: o\n",
      "x is tracking: u\n"
     ]
    }
   ],
   "source": [
    "l = ['a', 'e', 'i', 'o', 'u']\n",
    "for x in l:\n",
    "    print(f'x is tracking: {x}')"
   ]
  },
  {
   "cell_type": "code",
   "execution_count": 4,
   "id": "65e0c5bf",
   "metadata": {},
   "outputs": [
    {
     "name": "stdout",
     "output_type": "stream",
     "text": [
      "a\n",
      "e\n",
      "i\n",
      "o\n",
      "u\n"
     ]
    }
   ],
   "source": [
    "i = 0\n",
    "while i < len(l):\n",
    "    print(l[i])\n",
    "    i += 1"
   ]
  },
  {
   "cell_type": "code",
   "execution_count": 5,
   "id": "be5e2d54",
   "metadata": {},
   "outputs": [],
   "source": [
    "l1 = [1, 2, 3, 4, 5]"
   ]
  },
  {
   "cell_type": "code",
   "execution_count": 6,
   "id": "4a4dfaeb",
   "metadata": {},
   "outputs": [
    {
     "data": {
      "text/plain": [
       "['a', 'e', 'i', 'o', 'u']"
      ]
     },
     "execution_count": 6,
     "metadata": {},
     "output_type": "execute_result"
    }
   ],
   "source": [
    "l"
   ]
  },
  {
   "cell_type": "code",
   "execution_count": 8,
   "id": "baead368",
   "metadata": {},
   "outputs": [
    {
     "data": {
      "text/plain": [
       "[1, 2, 3, 4, 5]"
      ]
     },
     "execution_count": 8,
     "metadata": {},
     "output_type": "execute_result"
    }
   ],
   "source": [
    "l1"
   ]
  },
  {
   "cell_type": "code",
   "execution_count": 7,
   "id": "9b566f4a",
   "metadata": {
    "scrolled": true
   },
   "outputs": [
    {
     "name": "stdout",
     "output_type": "stream",
     "text": [
      "x: a, y: 1\n",
      "x: e, y: 2\n",
      "x: i, y: 3\n",
      "x: o, y: 4\n",
      "x: u, y: 5\n"
     ]
    }
   ],
   "source": [
    "for x, y in zip(l ,l1):\n",
    "    print(f'x: {x}, y: {y}')"
   ]
  },
  {
   "cell_type": "code",
   "execution_count": 9,
   "id": "c2a74f91",
   "metadata": {},
   "outputs": [],
   "source": [
    "l2 = ['a', 'b', 'c']"
   ]
  },
  {
   "cell_type": "code",
   "execution_count": 10,
   "id": "cb7a5c2c",
   "metadata": {},
   "outputs": [
    {
     "name": "stdout",
     "output_type": "stream",
     "text": [
      "x: 1, y: a\n",
      "x: 2, y: b\n",
      "x: 3, y: c\n"
     ]
    }
   ],
   "source": [
    "for x, y in zip(l1, l2,):\n",
    "    print(f'x: {x}, y: {y}')"
   ]
  },
  {
   "cell_type": "code",
   "execution_count": 16,
   "id": "029494be",
   "metadata": {},
   "outputs": [
    {
     "name": "stdout",
     "output_type": "stream",
     "text": [
      "Enter two numbers: 12 6\n",
      "12/6 = 2.0\n"
     ]
    }
   ],
   "source": [
    "while True:\n",
    "    user_input = input('Enter two numbers: ')\n",
    "    user_input = user_input.split(' ')\n",
    "    num1 = int(user_input[0])\n",
    "    num2 = int(user_input[1])\n",
    "\n",
    "    try:\n",
    "        print(f'{num1}/{num2} = {num1 / num2}')\n",
    "        break\n",
    "        print('This is statement below break, this must not be displayed in output')\n",
    "    except ZeroDivisionError:\n",
    "        print('Cannot divide by zero,  Try again!!!')"
   ]
  },
  {
   "cell_type": "code",
   "execution_count": null,
   "id": "5f144e48",
   "metadata": {},
   "outputs": [],
   "source": [
    "while True:\n",
    "    user_input = input('Enter two numbers: ')\n",
    "    user_input = user_input.split(' ')\n",
    "    num1 = int(user_input[0])\n",
    "    num2 = int(user_input[1])\n",
    "    \n",
    "    if num2 == 0:\n",
    "        print('Cannot divide by zero, Try Again!!!')\n",
    "        continue\n",
    "    \n",
    "    print(f'{num1}/{num2} = {num1 / num2}')\n",
    "    break"
   ]
  },
  {
   "cell_type": "markdown",
   "id": "cc07aae4",
   "metadata": {},
   "source": [
    "# Fizz-Buzz problem\n",
    "generate number from 1 to 20\n",
    "* if the number is divisible by 3, print '**fizz**'\n",
    "* if the number is divisible by 5, print '**buzz**'\n",
    "* the number is divisible by both 5 and 3, print '**fizz buzz**'\n",
    "* the number is not divisible by both 3 and 5, print the number\n",
    "\n",
    "```python\n",
    "if div(3):\n",
    "    print(fizz)\n",
    "if div(5):\n",
    "    print(buzz)\n",
    "if div(5) and div(3):\n",
    "    print(fizz-buzz)\n",
    "```"
   ]
  },
  {
   "cell_type": "code",
   "execution_count": 19,
   "id": "ec3286f4",
   "metadata": {},
   "outputs": [
    {
     "name": "stdout",
     "output_type": "stream",
     "text": [
      "1\n",
      "2\n",
      "fizz\n",
      "4\n",
      "buzz\n",
      "fizz\n",
      "7\n",
      "8\n",
      "fizz\n",
      "buzz\n",
      "11\n",
      "fizz\n",
      "13\n",
      "14\n",
      "fizz-buzz\n",
      "16\n",
      "17\n",
      "fizz\n",
      "19\n",
      "buzz\n"
     ]
    }
   ],
   "source": [
    "for i in range(1, 21):\n",
    "    if i % 5 == i % 3 == 0:        \n",
    "        print('fizz-buzz')\n",
    "    elif i % 3 == 0:\n",
    "        print('fizz')\n",
    "    elif i % 5 == 0:\n",
    "        print('buzz')\n",
    "    else:\n",
    "        print(i)"
   ]
  },
  {
   "cell_type": "markdown",
   "id": "0bf69a4b",
   "metadata": {},
   "source": [
    "```\n",
    "#\n",
    "##\n",
    "###\n",
    "####\n",
    "#####\n",
    "```"
   ]
  },
  {
   "cell_type": "code",
   "execution_count": 20,
   "id": "b4b3af07",
   "metadata": {},
   "outputs": [
    {
     "data": {
      "text/plain": [
       "'bananananana'"
      ]
     },
     "execution_count": 20,
     "metadata": {},
     "output_type": "execute_result"
    }
   ],
   "source": [
    "'ba' + 'na' * 5"
   ]
  },
  {
   "cell_type": "code",
   "execution_count": 25,
   "id": "ba08c969",
   "metadata": {},
   "outputs": [
    {
     "data": {
      "text/plain": [
       "'hahaha'"
      ]
     },
     "execution_count": 25,
     "metadata": {},
     "output_type": "execute_result"
    }
   ],
   "source": [
    "'ha' * 3"
   ]
  },
  {
   "cell_type": "code",
   "execution_count": 27,
   "id": "5581ea45",
   "metadata": {},
   "outputs": [
    {
     "name": "stdout",
     "output_type": "stream",
     "text": [
      "#\n",
      "##\n",
      "###\n",
      "####\n",
      "#####\n"
     ]
    }
   ],
   "source": [
    "# using for loop\n",
    "for i in range(5):\n",
    "    pat = '#' * (i+1)\n",
    "    print(pat)"
   ]
  },
  {
   "cell_type": "code",
   "execution_count": null,
   "id": "00df06b7",
   "metadata": {},
   "outputs": [],
   "source": [
    "i = 0\n",
    "while i < 5:\n",
    "    pat = '#' * (i + 1)\n",
    "    print(pat)\n",
    "#     i = i + 1\n",
    "    i += 1"
   ]
  },
  {
   "cell_type": "markdown",
   "id": "885ae872",
   "metadata": {},
   "source": [
    "```\n",
    "1\n",
    "1 2\n",
    "1 2 3\n",
    "1 2 3 4\n",
    "1 2 3 4 5\n",
    "\n",
    "```"
   ]
  },
  {
   "cell_type": "code",
   "execution_count": 28,
   "id": "647401cb",
   "metadata": {},
   "outputs": [
    {
     "name": "stdout",
     "output_type": "stream",
     "text": [
      "\n",
      "1\n",
      "1 2\n",
      "1 2 3\n",
      "1 2 3 4\n",
      "1 2 3 4 5\n",
      "\n"
     ]
    }
   ],
   "source": [
    "pattern = '''\n",
    "1\n",
    "1 2\n",
    "1 2 3\n",
    "1 2 3 4\n",
    "1 2 3 4 5\n",
    "'''\n",
    "print(pattern)"
   ]
  },
  {
   "cell_type": "code",
   "execution_count": null,
   "id": "263170a2",
   "metadata": {},
   "outputs": [],
   "source": [
    "row = 5"
   ]
  },
  {
   "cell_type": "code",
   "execution_count": null,
   "id": "12294d65",
   "metadata": {},
   "outputs": [],
   "source": [
    "for i in range(1, row+1):\n",
    "#     print(i)\n",
    "    for j in range(1, i+1):\n",
    "        print(j, end=' ')\n",
    "    print('')"
   ]
  },
  {
   "cell_type": "code",
   "execution_count": 39,
   "id": "dade69f1",
   "metadata": {},
   "outputs": [
    {
     "name": "stdout",
     "output_type": "stream",
     "text": [
      "1 \n",
      "1 2 \n",
      "1 2 3 \n",
      "1 2 3 4 \n",
      "1 2 3 4 5 \n"
     ]
    }
   ],
   "source": [
    "row = 5\n",
    "for i in range(1, row+1):\n",
    "#     print(i)\n",
    "    for j in range(1, i+1):\n",
    "        print(j, end=' ')\n",
    "    print('')"
   ]
  },
  {
   "cell_type": "code",
   "execution_count": 40,
   "id": "331b9277",
   "metadata": {},
   "outputs": [
    {
     "name": "stdout",
     "output_type": "stream",
     "text": [
      "a: 12, b: 13\n"
     ]
    }
   ],
   "source": [
    "a = 13\n",
    "b = 12\n",
    "\n",
    "c = a\n",
    "\n",
    "a = b\n",
    "b = c\n",
    "print(f'a: {a}, b: {b}')\n",
    "# Traditional way"
   ]
  },
  {
   "cell_type": "code",
   "execution_count": 41,
   "id": "f12c171a",
   "metadata": {},
   "outputs": [
    {
     "name": "stdout",
     "output_type": "stream",
     "text": [
      "a: 12, b: 13\n"
     ]
    }
   ],
   "source": [
    "a = 13\n",
    "b = 12\n",
    "\n",
    "a, b = b, a # python way\n",
    "print(f'a: {a}, b: {b}')"
   ]
  },
  {
   "cell_type": "code",
   "execution_count": null,
   "id": "88c4748f",
   "metadata": {},
   "outputs": [],
   "source": []
  }
 ],
 "metadata": {
  "kernelspec": {
   "display_name": "Python 3 (ipykernel)",
   "language": "python",
   "name": "python3"
  },
  "language_info": {
   "codemirror_mode": {
    "name": "ipython",
    "version": 3
   },
   "file_extension": ".py",
   "mimetype": "text/x-python",
   "name": "python",
   "nbconvert_exporter": "python",
   "pygments_lexer": "ipython3",
   "version": "3.9.13"
  }
 },
 "nbformat": 4,
 "nbformat_minor": 5
}
