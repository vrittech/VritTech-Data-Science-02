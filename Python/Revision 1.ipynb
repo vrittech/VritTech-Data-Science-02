{
 "cells": [
  {
   "cell_type": "markdown",
   "id": "59fa5269",
   "metadata": {},
   "source": [
    "1. Area of circle"
   ]
  },
  {
   "cell_type": "code",
   "execution_count": 2,
   "id": "8c07f52f",
   "metadata": {},
   "outputs": [
    {
     "name": "stdout",
     "output_type": "stream",
     "text": [
      "Area is: 6364.285714285714\n"
     ]
    }
   ],
   "source": [
    "r = 45\n",
    "pi = 22 / 7\n",
    "\n",
    "area = pi * r * r\n",
    "print(f'Area is: {area}')"
   ]
  },
  {
   "cell_type": "markdown",
   "id": "9d73dbeb",
   "metadata": {},
   "source": [
    "2. Area of triangle using sides only"
   ]
  },
  {
   "cell_type": "code",
   "execution_count": 3,
   "id": "30b87608",
   "metadata": {},
   "outputs": [
    {
     "name": "stdout",
     "output_type": "stream",
     "text": [
      "Area is: 6.0\n"
     ]
    }
   ],
   "source": [
    "a = 2\n",
    "b = 4\n",
    "c = 5\n",
    "\n",
    "s = (a + b + c) / 2\n",
    "\n",
    "area = (s * (s - a) * (s - b) * (s - c)) ** 0.5\n",
    "print(f'Area is: {area}')"
   ]
  },
  {
   "cell_type": "code",
   "execution_count": 6,
   "id": "6c39765d",
   "metadata": {},
   "outputs": [],
   "source": [
    "string_1 = \"This isn't my book\""
   ]
  },
  {
   "cell_type": "code",
   "execution_count": 7,
   "id": "7dc830e0",
   "metadata": {},
   "outputs": [
    {
     "data": {
      "text/plain": [
       "\"This isn't my book\""
      ]
     },
     "execution_count": 7,
     "metadata": {},
     "output_type": "execute_result"
    }
   ],
   "source": [
    "string_1"
   ]
  },
  {
   "cell_type": "code",
   "execution_count": 8,
   "id": "19721f20",
   "metadata": {},
   "outputs": [],
   "source": [
    "string_1 = 'This isn\\'t my book'"
   ]
  },
  {
   "cell_type": "code",
   "execution_count": 9,
   "id": "eff867df",
   "metadata": {},
   "outputs": [
    {
     "data": {
      "text/plain": [
       "\"This isn't my book\""
      ]
     },
     "execution_count": 9,
     "metadata": {},
     "output_type": "execute_result"
    }
   ],
   "source": [
    "string_1"
   ]
  },
  {
   "cell_type": "code",
   "execution_count": 10,
   "id": "96ec237b",
   "metadata": {},
   "outputs": [
    {
     "data": {
      "text/plain": [
       "False"
      ]
     },
     "execution_count": 10,
     "metadata": {},
     "output_type": "execute_result"
    }
   ],
   "source": [
    "a = 5\n",
    "\n",
    "b = 12\n",
    "\n",
    "a == b # a is equal to b"
   ]
  },
  {
   "cell_type": "code",
   "execution_count": 12,
   "id": "6091ba9a",
   "metadata": {},
   "outputs": [
    {
     "data": {
      "text/plain": [
       "True"
      ]
     },
     "execution_count": 12,
     "metadata": {},
     "output_type": "execute_result"
    }
   ],
   "source": [
    "a <= b # a is not greater than b"
   ]
  },
  {
   "cell_type": "code",
   "execution_count": 13,
   "id": "5be8af6e",
   "metadata": {},
   "outputs": [],
   "source": [
    "a = 456\n",
    "b = a\n",
    "# traditional way"
   ]
  },
  {
   "cell_type": "code",
   "execution_count": 14,
   "id": "da3349e2",
   "metadata": {},
   "outputs": [],
   "source": [
    "a = b = 456 # Python way"
   ]
  },
  {
   "cell_type": "code",
   "execution_count": 15,
   "id": "41309853",
   "metadata": {},
   "outputs": [],
   "source": [
    "a = (5)\n",
    "b = (5, )"
   ]
  },
  {
   "cell_type": "code",
   "execution_count": 16,
   "id": "dfe3f74e",
   "metadata": {},
   "outputs": [
    {
     "data": {
      "text/plain": [
       "5"
      ]
     },
     "execution_count": 16,
     "metadata": {},
     "output_type": "execute_result"
    }
   ],
   "source": [
    "a"
   ]
  },
  {
   "cell_type": "code",
   "execution_count": 17,
   "id": "c18bbada",
   "metadata": {},
   "outputs": [
    {
     "data": {
      "text/plain": [
       "(5,)"
      ]
     },
     "execution_count": 17,
     "metadata": {},
     "output_type": "execute_result"
    }
   ],
   "source": [
    "b"
   ]
  },
  {
   "cell_type": "code",
   "execution_count": 18,
   "id": "ec909670",
   "metadata": {},
   "outputs": [
    {
     "data": {
      "text/plain": [
       "int"
      ]
     },
     "execution_count": 18,
     "metadata": {},
     "output_type": "execute_result"
    }
   ],
   "source": [
    "type(a)"
   ]
  },
  {
   "cell_type": "code",
   "execution_count": 19,
   "id": "c2bd147d",
   "metadata": {},
   "outputs": [
    {
     "data": {
      "text/plain": [
       "tuple"
      ]
     },
     "execution_count": 19,
     "metadata": {},
     "output_type": "execute_result"
    }
   ],
   "source": [
    "type(b)"
   ]
  },
  {
   "cell_type": "code",
   "execution_count": 20,
   "id": "d8ea0a7a",
   "metadata": {},
   "outputs": [],
   "source": [
    "a = [2]\n",
    "b = [2, ]"
   ]
  },
  {
   "cell_type": "code",
   "execution_count": 21,
   "id": "5483142f",
   "metadata": {},
   "outputs": [
    {
     "data": {
      "text/plain": [
       "list"
      ]
     },
     "execution_count": 21,
     "metadata": {},
     "output_type": "execute_result"
    }
   ],
   "source": [
    "type(a)"
   ]
  },
  {
   "cell_type": "code",
   "execution_count": 22,
   "id": "5989645f",
   "metadata": {},
   "outputs": [
    {
     "data": {
      "text/plain": [
       "list"
      ]
     },
     "execution_count": 22,
     "metadata": {},
     "output_type": "execute_result"
    }
   ],
   "source": [
    "type(b)"
   ]
  },
  {
   "cell_type": "code",
   "execution_count": null,
   "id": "3117516e",
   "metadata": {},
   "outputs": [],
   "source": []
  }
 ],
 "metadata": {
  "kernelspec": {
   "display_name": "Python 3 (ipykernel)",
   "language": "python",
   "name": "python3"
  },
  "language_info": {
   "codemirror_mode": {
    "name": "ipython",
    "version": 3
   },
   "file_extension": ".py",
   "mimetype": "text/x-python",
   "name": "python",
   "nbconvert_exporter": "python",
   "pygments_lexer": "ipython3",
   "version": "3.9.13"
  }
 },
 "nbformat": 4,
 "nbformat_minor": 5
}
