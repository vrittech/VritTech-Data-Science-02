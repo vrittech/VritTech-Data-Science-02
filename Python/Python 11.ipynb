{
 "cells": [
  {
   "cell_type": "markdown",
   "id": "c207749d-2819-4f10-9794-3a8a9f5516ad",
   "metadata": {},
   "source": [
    "# SQL Practice contd."
   ]
  },
  {
   "cell_type": "code",
   "execution_count": 1,
   "id": "bbfbf100-1155-443d-ad65-47c1c721d629",
   "metadata": {},
   "outputs": [],
   "source": [
    "import sqlite3"
   ]
  },
  {
   "cell_type": "code",
   "execution_count": 2,
   "id": "dfd9754a-1269-4ab6-8d0b-0a9c43e6f660",
   "metadata": {},
   "outputs": [],
   "source": [
    "# creating a db connection\n",
    "conn = sqlite3.connect('db.sqlite3')"
   ]
  },
  {
   "cell_type": "code",
   "execution_count": 3,
   "id": "1738752a-370b-4bf9-be0f-2f39008eec09",
   "metadata": {},
   "outputs": [],
   "source": [
    "cur = conn.cursor()"
   ]
  },
  {
   "cell_type": "code",
   "execution_count": 4,
   "id": "9ad5deed-2593-4838-8166-3c0c0a80f699",
   "metadata": {},
   "outputs": [
    {
     "data": {
      "text/plain": [
       "<sqlite3.Cursor at 0x1c3c08f3c40>"
      ]
     },
     "execution_count": 4,
     "metadata": {},
     "output_type": "execute_result"
    }
   ],
   "source": [
    "create = \"\"\"\n",
    "CREATE TABLE IF NOT EXISTS USER(\n",
    "    ID INTEGER PRIMARY KEY AUTOINCREMENT,\n",
    "    NAME STRING NOT NULL,\n",
    "    ADDRESS STRING NOT NULL,\n",
    "    AGE INTEGER NULL,\n",
    "    GENDER STRING NULL\n",
    ");\n",
    "\"\"\"\n",
    "cur.execute(create)"
   ]
  },
  {
   "cell_type": "code",
   "execution_count": 5,
   "id": "8c727dd1-6e22-4701-a219-c11c13ae9134",
   "metadata": {},
   "outputs": [
    {
     "data": {
      "text/plain": [
       "[]"
      ]
     },
     "execution_count": 5,
     "metadata": {},
     "output_type": "execute_result"
    }
   ],
   "source": [
    "read = 'SELECT * FROM USER;' # SELECTING EVERYTHING FROM USER TABLE\n",
    "data = cur.execute(read)\n",
    "data.fetchall()"
   ]
  },
  {
   "cell_type": "code",
   "execution_count": 6,
   "id": "1fce556a-64ca-4990-9ae1-cb4db27f7c37",
   "metadata": {},
   "outputs": [
    {
     "data": {
      "text/plain": [
       "<sqlite3.Cursor at 0x1c3c08f3c40>"
      ]
     },
     "execution_count": 6,
     "metadata": {},
     "output_type": "execute_result"
    }
   ],
   "source": [
    "update = \"\"\"\n",
    "INSERT INTO USER('NAME', 'ADDRESS', 'AGE')\n",
    "VALUES('Ghana Shyam', 'Bhaktapur', 60);\n",
    "\"\"\"\n",
    "cur.execute(update)"
   ]
  },
  {
   "cell_type": "code",
   "execution_count": 7,
   "id": "843e6959-e52e-4a94-b338-78080c7ad70a",
   "metadata": {},
   "outputs": [
    {
     "data": {
      "text/plain": [
       "[(1, 'Ghana Shyam', 'Bhaktapur', 60, None)]"
      ]
     },
     "execution_count": 7,
     "metadata": {},
     "output_type": "execute_result"
    }
   ],
   "source": [
    "read = 'SELECT * FROM USER;' # SELECTING EVERYTHING FROM USER TABLE\n",
    "data = cur.execute(read)\n",
    "data.fetchall()"
   ]
  },
  {
   "cell_type": "code",
   "execution_count": 8,
   "id": "0f28661d-4a0e-4f25-8543-4d42fc9705a7",
   "metadata": {},
   "outputs": [
    {
     "data": {
      "text/plain": [
       "<sqlite3.Cursor at 0x1c3c08f3c40>"
      ]
     },
     "execution_count": 8,
     "metadata": {},
     "output_type": "execute_result"
    }
   ],
   "source": [
    "update = \"\"\"\n",
    "INSERT INTO USER('NAME', 'ADDRESS', 'AGE', 'GENDER')\n",
    "VALUES('Radh Piyari', 'Bhaktapur', 50, 'F');\n",
    "\"\"\"\n",
    "cur.execute(update)"
   ]
  },
  {
   "cell_type": "code",
   "execution_count": 9,
   "id": "3d1caa1d-d6e9-4c63-90a8-a2f264973157",
   "metadata": {},
   "outputs": [
    {
     "data": {
      "text/plain": [
       "[(1, 'Ghana Shyam', 'Bhaktapur', 60, None),\n",
       " (2, 'Radh Piyari', 'Bhaktapur', 50, 'F')]"
      ]
     },
     "execution_count": 9,
     "metadata": {},
     "output_type": "execute_result"
    }
   ],
   "source": [
    "read = 'SELECT * FROM USER;' # SELECTING EVERYTHING FROM USER TABLE\n",
    "data = cur.execute(read)\n",
    "data.fetchall()"
   ]
  },
  {
   "cell_type": "code",
   "execution_count": 10,
   "id": "8da0ba11-1b67-458b-a09d-afa3dcd775e2",
   "metadata": {},
   "outputs": [
    {
     "data": {
      "text/plain": [
       "<sqlite3.Cursor at 0x1c3c08f3c40>"
      ]
     },
     "execution_count": 10,
     "metadata": {},
     "output_type": "execute_result"
    }
   ],
   "source": [
    "update = \"\"\"\n",
    "INSERT INTO USER('NAME', 'ADDRESS', 'AGE', 'GENDER')\n",
    "    VALUES('Rajesh Hamal', 'Kathmandu', 16, 'M'),\n",
    "    ('Karishma Manandhar', 'Lalitpur', 14, 'F'),\n",
    "    ('Bhuwan KC', 'Kathmandu', 50, 'M');\n",
    "\"\"\"\n",
    "cur.execute(update)"
   ]
  },
  {
   "cell_type": "code",
   "execution_count": 11,
   "id": "198bd8be-a318-4738-bc4b-3bf3c42bad1f",
   "metadata": {},
   "outputs": [
    {
     "data": {
      "text/plain": [
       "[(1, 'Ghana Shyam', 'Bhaktapur', 60, None),\n",
       " (2, 'Radh Piyari', 'Bhaktapur', 50, 'F'),\n",
       " (3, 'Rajesh Hamal', 'Kathmandu', 16, 'M'),\n",
       " (4, 'Karishma Manandhar', 'Lalitpur', 14, 'F'),\n",
       " (5, 'Bhuwan KC', 'Kathmandu', 50, 'M')]"
      ]
     },
     "execution_count": 11,
     "metadata": {},
     "output_type": "execute_result"
    }
   ],
   "source": [
    "read = 'SELECT * FROM USER;' # SELECTING EVERYTHING FROM USER TABLE\n",
    "data = cur.execute(read)\n",
    "data.fetchall()"
   ]
  },
  {
   "cell_type": "code",
   "execution_count": 12,
   "id": "bb575512-7bc4-4f53-981d-96d9a520693d",
   "metadata": {},
   "outputs": [],
   "source": [
    "values = [\n",
    "    ['Bruce Lee', 'USA', 40, 'M'],\n",
    "    ['Kim Jong Un', 'North Korea', 35, 'M'],\n",
    "    ['Alladhin', 'Wadiya', 30, 'M' ]\n",
    "]"
   ]
  },
  {
   "cell_type": "code",
   "execution_count": 18,
   "id": "e6261a4f-45d6-4ac6-9fa0-73c7b4f00f82",
   "metadata": {},
   "outputs": [],
   "source": [
    "for val in values:\n",
    "    update = f\"\"\"\n",
    "    INSERT INTO USER('NAME', 'ADDRESS', 'AGE', 'GENDER')\n",
    "    VALUES('{val[0]}', '{val[1]}', {val[2]}, '{val[3]}');\n",
    "    \"\"\"\n",
    "    cur.execute(update)"
   ]
  },
  {
   "cell_type": "code",
   "execution_count": 19,
   "id": "d984f05b-dd85-4dd1-a5e0-275e944e0975",
   "metadata": {},
   "outputs": [
    {
     "data": {
      "text/plain": [
       "[(1, 'Ghana Shyam', 'Bhaktapur', 60, None),\n",
       " (2, 'Radh Piyari', 'Bhaktapur', 50, 'F'),\n",
       " (3, 'Rajesh Hamal', 'Kathmandu', 16, 'M'),\n",
       " (4, 'Karishma Manandhar', 'Lalitpur', 14, 'F'),\n",
       " (5, 'Bhuwan KC', 'Kathmandu', 50, 'M'),\n",
       " (6, 'Bruce Lee', 'USA', 40, 'M'),\n",
       " (7, 'Kim Jong Un', 'North Korea', 35, 'M'),\n",
       " (8, 'Alladhin', 'Wadiya', 30, 'M')]"
      ]
     },
     "execution_count": 19,
     "metadata": {},
     "output_type": "execute_result"
    }
   ],
   "source": [
    "read = 'SELECT * FROM USER;' # SELECTING EVERYTHING FROM USER TABLE\n",
    "data = cur.execute(read)\n",
    "data.fetchall()"
   ]
  },
  {
   "cell_type": "code",
   "execution_count": 20,
   "id": "e80afa8e-a55b-40b1-8bbd-2276f7fc3789",
   "metadata": {},
   "outputs": [
    {
     "data": {
      "text/plain": [
       "[('Ghana Shyam', 'Bhaktapur', 60),\n",
       " ('Radh Piyari', 'Bhaktapur', 50),\n",
       " ('Rajesh Hamal', 'Kathmandu', 16),\n",
       " ('Karishma Manandhar', 'Lalitpur', 14),\n",
       " ('Bhuwan KC', 'Kathmandu', 50),\n",
       " ('Bruce Lee', 'USA', 40),\n",
       " ('Kim Jong Un', 'North Korea', 35),\n",
       " ('Alladhin', 'Wadiya', 30)]"
      ]
     },
     "execution_count": 20,
     "metadata": {},
     "output_type": "execute_result"
    }
   ],
   "source": [
    "read = 'SELECT NAME, ADDRESS, AGE FROM USER;' # SELECTING selected  columns FROM USER TABLE\n",
    "data = cur.execute(read)\n",
    "data.fetchall()"
   ]
  },
  {
   "cell_type": "code",
   "execution_count": 21,
   "id": "7c7db8d8-b01f-4f46-b883-db54478436e5",
   "metadata": {},
   "outputs": [
    {
     "data": {
      "text/plain": [
       "[('Ghana Shyam', 'Bhaktapur', 60, 1),\n",
       " ('Radh Piyari', 'Bhaktapur', 50, 2),\n",
       " ('Rajesh Hamal', 'Kathmandu', 16, 3),\n",
       " ('Karishma Manandhar', 'Lalitpur', 14, 4),\n",
       " ('Bhuwan KC', 'Kathmandu', 50, 5),\n",
       " ('Bruce Lee', 'USA', 40, 6),\n",
       " ('Kim Jong Un', 'North Korea', 35, 7),\n",
       " ('Alladhin', 'Wadiya', 30, 8)]"
      ]
     },
     "execution_count": 21,
     "metadata": {},
     "output_type": "execute_result"
    }
   ],
   "source": [
    "read = 'SELECT NAME, ADDRESS, AGE, id FROM USER;' # SELECTING selected  columns FROM USER TABLE\n",
    "data = cur.execute(read)\n",
    "data.fetchall()"
   ]
  },
  {
   "cell_type": "code",
   "execution_count": 22,
   "id": "014f1376-0ebd-4605-9bbd-61539213c331",
   "metadata": {},
   "outputs": [
    {
     "data": {
      "text/plain": [
       "[('Ghana Shyam', 'Bhaktapur', 60),\n",
       " ('Radh Piyari', 'Bhaktapur', 50),\n",
       " ('Bhuwan KC', 'Kathmandu', 50),\n",
       " ('Bruce Lee', 'USA', 40),\n",
       " ('Kim Jong Un', 'North Korea', 35)]"
      ]
     },
     "execution_count": 22,
     "metadata": {},
     "output_type": "execute_result"
    }
   ],
   "source": [
    "read = 'SELECT NAME, ADDRESS, AGE FROM USER where age > 30;' # SELECTING selected  columns FROM USER TABLE\n",
    "data = cur.execute(read)\n",
    "data.fetchall()"
   ]
  },
  {
   "cell_type": "code",
   "execution_count": 24,
   "id": "fb108119-9123-4bdc-bb41-8fe84d1c7984",
   "metadata": {},
   "outputs": [
    {
     "data": {
      "text/plain": [
       "[]"
      ]
     },
     "execution_count": 24,
     "metadata": {},
     "output_type": "execute_result"
    }
   ],
   "source": [
    "read = \"SELECT NAME, ADDRESS, AGE FROM USER where address = 'kathmandu'; \" # SELECTING selected  columns FROM USER TABLE\n",
    "data = cur.execute(read)\n",
    "data.fetchall()"
   ]
  },
  {
   "cell_type": "code",
   "execution_count": 25,
   "id": "b07df9f7-83ec-40ec-a8c9-901089af31cf",
   "metadata": {},
   "outputs": [
    {
     "data": {
      "text/plain": [
       "[('Rajesh Hamal', 'Kathmandu', 16), ('Bhuwan KC', 'Kathmandu', 50)]"
      ]
     },
     "execution_count": 25,
     "metadata": {},
     "output_type": "execute_result"
    }
   ],
   "source": [
    "read = \"SELECT NAME, ADDRESS, AGE FROM USER where address = 'Kathmandu'; \" # SELECTING selected  columns FROM USER TABLE\n",
    "data = cur.execute(read)\n",
    "data.fetchall()"
   ]
  },
  {
   "cell_type": "code",
   "execution_count": null,
   "id": "8a59d672-277d-43cd-86e3-d5f66c876e84",
   "metadata": {},
   "outputs": [],
   "source": []
  },
  {
   "cell_type": "code",
   "execution_count": 26,
   "id": "3d1a5df4-e8c5-4634-ac27-d394d6113d47",
   "metadata": {},
   "outputs": [
    {
     "data": {
      "text/plain": [
       "<sqlite3.Cursor at 0x1c3c08f3c40>"
      ]
     },
     "execution_count": 26,
     "metadata": {},
     "output_type": "execute_result"
    }
   ],
   "source": [
    "delete = 'DELETE FROM USER WHERE ID=8;'\n",
    "cur.execute(delete)"
   ]
  },
  {
   "cell_type": "code",
   "execution_count": 27,
   "id": "9cf50fb4-18cc-4788-9387-e984e4288659",
   "metadata": {},
   "outputs": [
    {
     "data": {
      "text/plain": [
       "[(1, 'Ghana Shyam', 'Bhaktapur', 60, None),\n",
       " (2, 'Radh Piyari', 'Bhaktapur', 50, 'F'),\n",
       " (3, 'Rajesh Hamal', 'Kathmandu', 16, 'M'),\n",
       " (4, 'Karishma Manandhar', 'Lalitpur', 14, 'F'),\n",
       " (5, 'Bhuwan KC', 'Kathmandu', 50, 'M'),\n",
       " (6, 'Bruce Lee', 'USA', 40, 'M'),\n",
       " (7, 'Kim Jong Un', 'North Korea', 35, 'M')]"
      ]
     },
     "execution_count": 27,
     "metadata": {},
     "output_type": "execute_result"
    }
   ],
   "source": [
    "read = 'SELECT * FROM USER;' # SELECTING EVERYTHING FROM USER TABLE\n",
    "data = cur.execute(read)\n",
    "data.fetchall()"
   ]
  },
  {
   "cell_type": "code",
   "execution_count": 28,
   "id": "cc523a62-3c01-40e4-9fc3-a1417143c867",
   "metadata": {},
   "outputs": [],
   "source": [
    "conn.close()"
   ]
  },
  {
   "cell_type": "markdown",
   "id": "dc54cb33-8294-4205-ad49-99bc0c623c62",
   "metadata": {},
   "source": [
    "# File Handling"
   ]
  },
  {
   "cell_type": "markdown",
   "id": "f548318b-6ac4-4cd4-abec-35ecef699af8",
   "metadata": {},
   "source": [
    "```python\n",
    "file = open('file_name', mode)\n",
    "```"
   ]
  },
  {
   "cell_type": "markdown",
   "id": "32ccca7c-55a9-403c-b15f-c7da2c8d1164",
   "metadata": {},
   "source": [
    "File handling mode\n",
    "* **w**: Write into files, also overrites the contents\n",
    "* **r**: Read files\n",
    "* **a**: Append into files, will not overwite existing data\n",
    "* **w+**: write and read data, will overwrite existing data\n",
    "* **r+**: read and write data, will overwrite existing data\n",
    "* **a+**: append and read data, will not overwite existing data"
   ]
  },
  {
   "cell_type": "code",
   "execution_count": 31,
   "id": "6dae900e-9c3b-4f7d-a709-049153e758a3",
   "metadata": {},
   "outputs": [],
   "source": [
    "file = open('file.txt', 'r+')"
   ]
  },
  {
   "cell_type": "code",
   "execution_count": 32,
   "id": "e1e9eee9-5599-4011-97f3-5289b2a68f8d",
   "metadata": {},
   "outputs": [],
   "source": [
    "message = '''\n",
    "Hello form the other side.\n",
    "I should have called you thousand times.\n",
    "you tell you I am sorry.\n",
    "'''"
   ]
  },
  {
   "cell_type": "code",
   "execution_count": 33,
   "id": "60057a55-9244-4d14-ab48-571f6b77ca76",
   "metadata": {},
   "outputs": [
    {
     "data": {
      "text/plain": [
       "94"
      ]
     },
     "execution_count": 33,
     "metadata": {},
     "output_type": "execute_result"
    }
   ],
   "source": [
    "file.write(message)"
   ]
  },
  {
   "cell_type": "code",
   "execution_count": 34,
   "id": "93ddd9c4-3864-4610-bc98-8795b882811e",
   "metadata": {},
   "outputs": [],
   "source": [
    "file.close()"
   ]
  },
  {
   "cell_type": "code",
   "execution_count": 37,
   "id": "826a6f11-4e64-4cad-bea9-63d72bb104c7",
   "metadata": {},
   "outputs": [],
   "source": [
    "import numpy"
   ]
  },
  {
   "cell_type": "code",
   "execution_count": 38,
   "id": "94e8db26-d436-4278-a5d4-870a05b0e330",
   "metadata": {},
   "outputs": [],
   "source": [
    "# !pip install pandas==1.5.3"
   ]
  },
  {
   "cell_type": "code",
   "execution_count": 39,
   "id": "421b6a71-d8b5-47db-aad8-6e69a4fe6fe5",
   "metadata": {},
   "outputs": [
    {
     "data": {
      "text/plain": [
       "'1.25.1'"
      ]
     },
     "execution_count": 39,
     "metadata": {},
     "output_type": "execute_result"
    }
   ],
   "source": [
    "numpy.__version__"
   ]
  },
  {
   "cell_type": "code",
   "execution_count": 41,
   "id": "cbc7a377-0d9f-49d2-938b-1b5608a320b8",
   "metadata": {},
   "outputs": [],
   "source": [
    "import pandas"
   ]
  },
  {
   "cell_type": "code",
   "execution_count": 42,
   "id": "764b61c5-56bb-4ac1-a107-7d08d4f535b1",
   "metadata": {},
   "outputs": [
    {
     "data": {
      "text/plain": [
       "'2.0.3'"
      ]
     },
     "execution_count": 42,
     "metadata": {},
     "output_type": "execute_result"
    }
   ],
   "source": [
    "pandas.__version__"
   ]
  },
  {
   "cell_type": "code",
   "execution_count": 43,
   "id": "2e338ae0-4728-48c1-bc0e-f929faf1d175",
   "metadata": {},
   "outputs": [
    {
     "name": "stdout",
     "output_type": "stream",
     "text": [
      "Files removed: 10\n"
     ]
    }
   ],
   "source": [
    "!pip cache purge"
   ]
  },
  {
   "cell_type": "code",
   "execution_count": null,
   "id": "4b0a344a-ad2e-4d5f-8433-ea02e33f0859",
   "metadata": {},
   "outputs": [],
   "source": []
  }
 ],
 "metadata": {
  "kernelspec": {
   "display_name": "Python 3 (ipykernel)",
   "language": "python",
   "name": "python3"
  },
  "language_info": {
   "codemirror_mode": {
    "name": "ipython",
    "version": 3
   },
   "file_extension": ".py",
   "mimetype": "text/x-python",
   "name": "python",
   "nbconvert_exporter": "python",
   "pygments_lexer": "ipython3",
   "version": "3.10.11"
  }
 },
 "nbformat": 4,
 "nbformat_minor": 5
}
