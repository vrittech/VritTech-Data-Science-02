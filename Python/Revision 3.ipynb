{
 "cells": [
  {
   "cell_type": "markdown",
   "id": "327c2e32",
   "metadata": {},
   "source": [
    "# swap the valye of $x$ and $y$ using function\n",
    "\n",
    "**Conditions**\n",
    "* you are not allowed to use $x, y = y, x$\n",
    "* not traditional way either\n",
    "* function should return 2 values and receive 2 values"
   ]
  },
  {
   "cell_type": "code",
   "execution_count": 1,
   "id": "106393f6",
   "metadata": {},
   "outputs": [],
   "source": [
    "x = 45\n",
    "y = 89"
   ]
  },
  {
   "cell_type": "code",
   "execution_count": 2,
   "id": "fef37296",
   "metadata": {},
   "outputs": [],
   "source": [
    "def swap(a, b):\n",
    "    return b, a"
   ]
  },
  {
   "cell_type": "code",
   "execution_count": 3,
   "id": "304988f5",
   "metadata": {},
   "outputs": [],
   "source": [
    "x, y = swap(x, y)"
   ]
  },
  {
   "cell_type": "code",
   "execution_count": 4,
   "id": "5b1f265a",
   "metadata": {},
   "outputs": [
    {
     "data": {
      "text/plain": [
       "(89, 45)"
      ]
     },
     "execution_count": 4,
     "metadata": {},
     "output_type": "execute_result"
    }
   ],
   "source": [
    "x, y"
   ]
  },
  {
   "cell_type": "code",
   "execution_count": 5,
   "id": "9ff1ee88",
   "metadata": {},
   "outputs": [],
   "source": [
    "def add(a: int, b: int): # type hunting\n",
    "    print(a+b)"
   ]
  },
  {
   "cell_type": "code",
   "execution_count": 6,
   "id": "54cfba1e",
   "metadata": {},
   "outputs": [
    {
     "name": "stdout",
     "output_type": "stream",
     "text": [
      "haha\n"
     ]
    }
   ],
   "source": [
    "add('ha', 'ha')"
   ]
  },
  {
   "cell_type": "code",
   "execution_count": 9,
   "id": "c8e78d07",
   "metadata": {},
   "outputs": [
    {
     "data": {
      "text/plain": [
       "False"
      ]
     },
     "execution_count": 9,
     "metadata": {},
     "output_type": "execute_result"
    }
   ],
   "source": [
    "type(5) is not int"
   ]
  },
  {
   "cell_type": "code",
   "execution_count": 14,
   "id": "139025f6",
   "metadata": {},
   "outputs": [],
   "source": [
    "def add_int(a, b):\n",
    "    if type(a) is int and type(b) is int:\n",
    "        return (a + b)\n",
    "    \n",
    "    raise TypeError('Enetr valid Data!!!')"
   ]
  },
  {
   "cell_type": "code",
   "execution_count": 16,
   "id": "3dcb14db",
   "metadata": {},
   "outputs": [
    {
     "data": {
      "text/plain": [
       "13"
      ]
     },
     "execution_count": 16,
     "metadata": {},
     "output_type": "execute_result"
    }
   ],
   "source": [
    "add_int(5, 8)"
   ]
  },
  {
   "cell_type": "code",
   "execution_count": 17,
   "id": "38e80274",
   "metadata": {},
   "outputs": [
    {
     "ename": "TypeError",
     "evalue": "Enetr valid Data!!!",
     "output_type": "error",
     "traceback": [
      "\u001b[1;31m---------------------------------------------------------------------------\u001b[0m",
      "\u001b[1;31mTypeError\u001b[0m                                 Traceback (most recent call last)",
      "\u001b[1;32m~\\AppData\\Local\\Temp\\ipykernel_13400\\837176734.py\u001b[0m in \u001b[0;36m<cell line: 1>\u001b[1;34m()\u001b[0m\n\u001b[1;32m----> 1\u001b[1;33m \u001b[0madd_int\u001b[0m\u001b[1;33m(\u001b[0m\u001b[1;34m'ha'\u001b[0m\u001b[1;33m,\u001b[0m \u001b[1;36m8\u001b[0m\u001b[1;33m)\u001b[0m\u001b[1;33m\u001b[0m\u001b[1;33m\u001b[0m\u001b[0m\n\u001b[0m",
      "\u001b[1;32m~\\AppData\\Local\\Temp\\ipykernel_13400\\580847886.py\u001b[0m in \u001b[0;36madd_int\u001b[1;34m(a, b)\u001b[0m\n\u001b[0;32m      3\u001b[0m         \u001b[1;32mreturn\u001b[0m \u001b[1;33m(\u001b[0m\u001b[0ma\u001b[0m \u001b[1;33m+\u001b[0m \u001b[0mb\u001b[0m\u001b[1;33m)\u001b[0m\u001b[1;33m\u001b[0m\u001b[1;33m\u001b[0m\u001b[0m\n\u001b[0;32m      4\u001b[0m \u001b[1;33m\u001b[0m\u001b[0m\n\u001b[1;32m----> 5\u001b[1;33m     \u001b[1;32mraise\u001b[0m \u001b[0mTypeError\u001b[0m\u001b[1;33m(\u001b[0m\u001b[1;34m'Enetr valid Data!!!'\u001b[0m\u001b[1;33m)\u001b[0m\u001b[1;33m\u001b[0m\u001b[1;33m\u001b[0m\u001b[0m\n\u001b[0m",
      "\u001b[1;31mTypeError\u001b[0m: Enetr valid Data!!!"
     ]
    }
   ],
   "source": [
    "add_int('ha', 8)"
   ]
  },
  {
   "cell_type": "code",
   "execution_count": null,
   "id": "e1b31524",
   "metadata": {},
   "outputs": [],
   "source": []
  }
 ],
 "metadata": {
  "kernelspec": {
   "display_name": "Python 3 (ipykernel)",
   "language": "python",
   "name": "python3"
  },
  "language_info": {
   "codemirror_mode": {
    "name": "ipython",
    "version": 3
   },
   "file_extension": ".py",
   "mimetype": "text/x-python",
   "name": "python",
   "nbconvert_exporter": "python",
   "pygments_lexer": "ipython3",
   "version": "3.9.13"
  }
 },
 "nbformat": 4,
 "nbformat_minor": 5
}
