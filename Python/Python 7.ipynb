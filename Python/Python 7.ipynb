{
 "cells": [
  {
   "cell_type": "markdown",
   "id": "3a387bc6",
   "metadata": {},
   "source": [
    "# Functions"
   ]
  },
  {
   "cell_type": "code",
   "execution_count": 1,
   "id": "4a6dcc02",
   "metadata": {},
   "outputs": [],
   "source": [
    "def area_of_four_walls(length, bredth, height):\n",
    "    area = 2 * height * (length + bredth)\n",
    "    return area\n",
    "#     print(area)"
   ]
  },
  {
   "cell_type": "code",
   "execution_count": 2,
   "id": "aebdd7f1",
   "metadata": {},
   "outputs": [],
   "source": [
    "a = area_of_four_walls(3, 5 , 4)"
   ]
  },
  {
   "cell_type": "code",
   "execution_count": 3,
   "id": "cd444449",
   "metadata": {},
   "outputs": [
    {
     "data": {
      "text/plain": [
       "64"
      ]
     },
     "execution_count": 3,
     "metadata": {},
     "output_type": "execute_result"
    }
   ],
   "source": [
    "a"
   ]
  },
  {
   "cell_type": "markdown",
   "id": "1a5d8f7f",
   "metadata": {},
   "source": [
    "\n",
    "\n",
    "$\\sqrt{\\frac{\\sum(X - \\bar{X})^2}{N}}$"
   ]
  },
  {
   "cell_type": "code",
   "execution_count": 4,
   "id": "317906ae",
   "metadata": {},
   "outputs": [
    {
     "data": {
      "text/plain": [
       "7"
      ]
     },
     "execution_count": 4,
     "metadata": {},
     "output_type": "execute_result"
    }
   ],
   "source": [
    "len([45, 78, 12, 45, 96, 35, 55])"
   ]
  },
  {
   "cell_type": "code",
   "execution_count": 5,
   "id": "f2c5f178",
   "metadata": {},
   "outputs": [
    {
     "data": {
      "text/plain": [
       "366"
      ]
     },
     "execution_count": 5,
     "metadata": {},
     "output_type": "execute_result"
    }
   ],
   "source": [
    "sum([45, 78, 12, 45, 96, 35, 55])"
   ]
  },
  {
   "cell_type": "code",
   "execution_count": 6,
   "id": "c6fdbbd4",
   "metadata": {},
   "outputs": [
    {
     "data": {
      "text/plain": [
       "52.285714285714285"
      ]
     },
     "execution_count": 6,
     "metadata": {},
     "output_type": "execute_result"
    }
   ],
   "source": [
    "sum([45, 78, 12, 45, 96, 35, 55]) / len([45, 78, 12, 45, 96, 35, 55])"
   ]
  },
  {
   "cell_type": "code",
   "execution_count": 7,
   "id": "c2566322",
   "metadata": {},
   "outputs": [],
   "source": [
    "# Calculate standard deviation from a list of numbers\n",
    "def standard_deviation(l):\n",
    "    sum_x = sum(l)\n",
    "    mean = sum_x / len(l)\n",
    "    \n",
    "    summation = 0\n",
    "    for x in l:\n",
    "        summation += (x - mean) ** 2\n",
    "    std = (summation / len(l)) ** 0.5\n",
    "    return std"
   ]
  },
  {
   "cell_type": "code",
   "execution_count": 8,
   "id": "0e89df61",
   "metadata": {},
   "outputs": [
    {
     "data": {
      "text/plain": [
       "27.36450851980741"
      ]
     },
     "execution_count": 8,
     "metadata": {},
     "output_type": "execute_result"
    }
   ],
   "source": [
    "data = [45, 78, 12, 25, 96, 35, 55]\n",
    "standard_deviation(data)"
   ]
  },
  {
   "cell_type": "code",
   "execution_count": 9,
   "id": "0948d88e",
   "metadata": {},
   "outputs": [],
   "source": [
    "def display_info(name, age, children, status):\n",
    "    message = f'{name} has {children} children, is {age} years old and {status}'\n",
    "    print(message)"
   ]
  },
  {
   "cell_type": "code",
   "execution_count": 10,
   "id": "dd2a8609",
   "metadata": {},
   "outputs": [
    {
     "name": "stdout",
     "output_type": "stream",
     "text": [
      "Hari Bahadur has 3 children, is 50 years old and Alive\n"
     ]
    }
   ],
   "source": [
    "display_info('Hari Bahadur', 50, 3, 'Alive')"
   ]
  },
  {
   "cell_type": "code",
   "execution_count": 11,
   "id": "ad8ac4fb",
   "metadata": {},
   "outputs": [
    {
     "name": "stdout",
     "output_type": "stream",
     "text": [
      "Hari Bahadur has 3 children, is 50 years old and Alive\n"
     ]
    }
   ],
   "source": [
    "def display_info(name, age, children, status='Alive'):\n",
    "    message = f'{name} has {children} children, is {age} years old and {status}'\n",
    "    print(message)\n",
    "\n",
    "display_info('Hari Bahadur', 50, 3, )    "
   ]
  },
  {
   "cell_type": "code",
   "execution_count": 12,
   "id": "194682dd",
   "metadata": {},
   "outputs": [
    {
     "name": "stdout",
     "output_type": "stream",
     "text": [
      "Hari Bahadur has 3 children, is 50 years old and Dead\n"
     ]
    }
   ],
   "source": [
    "display_info('Hari Bahadur', 50, 3, 'Dead')    "
   ]
  },
  {
   "cell_type": "code",
   "execution_count": 13,
   "id": "21b626c6",
   "metadata": {},
   "outputs": [
    {
     "name": "stdout",
     "output_type": "stream",
     "text": [
      "Hari has 0 children, is 25 years old and Alive\n"
     ]
    }
   ],
   "source": [
    "def display_info(name, age, children=0, status='Alive'):\n",
    "    message = f'{name} has {children} children, is {age} years old and {status}'\n",
    "    print(message)\n",
    "    \n",
    "display_info('Hari', 25)"
   ]
  },
  {
   "cell_type": "code",
   "execution_count": 14,
   "id": "6cd54293",
   "metadata": {},
   "outputs": [
    {
     "name": "stdout",
     "output_type": "stream",
     "text": [
      "Radha Piyari has 9 children, is 50 years old and Alive\n"
     ]
    }
   ],
   "source": [
    "def display_info(name, age=15, children=0, status='Alive'):\n",
    "    message = f'{name} has {children} children, is {age} years old and {status}'\n",
    "    print(message)\n",
    "    \n",
    "display_info('Radha Piyari', children=9, age=50)"
   ]
  },
  {
   "cell_type": "code",
   "execution_count": 15,
   "id": "ec848b54",
   "metadata": {},
   "outputs": [
    {
     "name": "stdout",
     "output_type": "stream",
     "text": [
      "Notning has 0 children, is 15 years old and Alive\n"
     ]
    }
   ],
   "source": [
    "def display_info(name='Notning', age=15, children=0, status='Alive'):\n",
    "    message = f'{name} has {children} children, is {age} years old and {status}'\n",
    "    print(message)\n",
    "\n",
    "    \n",
    "display_info()"
   ]
  },
  {
   "cell_type": "code",
   "execution_count": 16,
   "id": "fd59a7cb",
   "metadata": {},
   "outputs": [
    {
     "name": "stdout",
     "output_type": "stream",
     "text": [
      "(6+5j) has 0 children, is 15 years old and Alive\n"
     ]
    }
   ],
   "source": [
    "display_info(name=(6 + 5j))"
   ]
  },
  {
   "cell_type": "code",
   "execution_count": null,
   "id": "efdb2228",
   "metadata": {},
   "outputs": [],
   "source": [
    "def add(a: int, b: int): # type hunting\n",
    "    print(a+b)"
   ]
  },
  {
   "cell_type": "code",
   "execution_count": null,
   "id": "33ee9177",
   "metadata": {},
   "outputs": [],
   "source": [
    "add(5, 6)"
   ]
  },
  {
   "cell_type": "markdown",
   "id": "bee718e9",
   "metadata": {},
   "source": [
    "## Lambda function\n",
    "```python\n",
    "func_name = lambda arguments: calulations\n",
    "```"
   ]
  },
  {
   "cell_type": "code",
   "execution_count": 17,
   "id": "a38a63e7",
   "metadata": {},
   "outputs": [],
   "source": [
    "x = lambda a: a * 2\n",
    "\n",
    "# def x(a):\n",
    "#     return a * 2"
   ]
  },
  {
   "cell_type": "code",
   "execution_count": 18,
   "id": "6a25c560",
   "metadata": {},
   "outputs": [
    {
     "data": {
      "text/plain": [
       "4"
      ]
     },
     "execution_count": 18,
     "metadata": {},
     "output_type": "execute_result"
    }
   ],
   "source": [
    "x(2)"
   ]
  },
  {
   "cell_type": "code",
   "execution_count": 19,
   "id": "2c37d200",
   "metadata": {},
   "outputs": [],
   "source": [
    "x = lambda a, b, c: a + b + c"
   ]
  },
  {
   "cell_type": "code",
   "execution_count": 20,
   "id": "cb07bc71",
   "metadata": {},
   "outputs": [
    {
     "data": {
      "text/plain": [
       "6"
      ]
     },
     "execution_count": 20,
     "metadata": {},
     "output_type": "execute_result"
    }
   ],
   "source": [
    "x(1, 2, 3)"
   ]
  },
  {
   "cell_type": "code",
   "execution_count": 21,
   "id": "c330e213",
   "metadata": {},
   "outputs": [],
   "source": [
    "x = lambda a, b: (b, a)"
   ]
  },
  {
   "cell_type": "code",
   "execution_count": 22,
   "id": "74f83743",
   "metadata": {},
   "outputs": [
    {
     "data": {
      "text/plain": [
       "(5, 4)"
      ]
     },
     "execution_count": 22,
     "metadata": {},
     "output_type": "execute_result"
    }
   ],
   "source": [
    "x(4, 5)"
   ]
  },
  {
   "cell_type": "code",
   "execution_count": null,
   "id": "c8355d60",
   "metadata": {},
   "outputs": [],
   "source": [
    "def funcA(soemthig):\n",
    "    pass\n",
    "# empty function"
   ]
  },
  {
   "cell_type": "code",
   "execution_count": null,
   "id": "10e547a1",
   "metadata": {},
   "outputs": [],
   "source": [
    "def parent_funciton():\n",
    "    a = 5\n",
    "    def child_function1():\n",
    "        pass\n",
    "    \n",
    "    def child_function2():\n",
    "        print('I am child function 2')\n",
    "    \n",
    "    def child_function3():\n",
    "        print('I am Child function 3')\n",
    "    \n",
    "    child_function1()\n",
    "    child_function2()\n",
    "    child_function3()\n",
    "\n",
    "parent_funciton()"
   ]
  },
  {
   "cell_type": "code",
   "execution_count": null,
   "id": "cf5636b0",
   "metadata": {},
   "outputs": [],
   "source": [
    "def fact(n):\n",
    "    if n == 0:\n",
    "        return 1\n",
    "    fac = 1\n",
    "    for i in range(1, n+1):\n",
    "        fac *= i\n",
    "    return fac"
   ]
  },
  {
   "cell_type": "code",
   "execution_count": null,
   "id": "4fa272d4",
   "metadata": {},
   "outputs": [],
   "source": [
    "fact(15)"
   ]
  },
  {
   "cell_type": "markdown",
   "id": "8cb185e6",
   "metadata": {},
   "source": [
    "0 1 1 2 3 5 8 13 21 34 55"
   ]
  }
 ],
 "metadata": {
  "kernelspec": {
   "display_name": "Python 3 (ipykernel)",
   "language": "python",
   "name": "python3"
  },
  "language_info": {
   "codemirror_mode": {
    "name": "ipython",
    "version": 3
   },
   "file_extension": ".py",
   "mimetype": "text/x-python",
   "name": "python",
   "nbconvert_exporter": "python",
   "pygments_lexer": "ipython3",
   "version": "3.10.11"
  }
 },
 "nbformat": 4,
 "nbformat_minor": 5
}
