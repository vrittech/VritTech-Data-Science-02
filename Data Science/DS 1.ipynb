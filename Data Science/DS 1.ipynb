{
 "cells": [
  {
   "cell_type": "markdown",
   "id": "0556b028-d4b9-4f49-9de1-00bcd4788b41",
   "metadata": {},
   "source": [
    "# Numpy Basics"
   ]
  },
  {
   "cell_type": "code",
   "execution_count": 1,
   "id": "538b0850-78bb-433d-bf56-6811a2c17ee0",
   "metadata": {},
   "outputs": [],
   "source": [
    "import numpy as np"
   ]
  },
  {
   "cell_type": "code",
   "execution_count": 2,
   "id": "bee523e5-b825-48c2-83bd-bf336ef3c44f",
   "metadata": {},
   "outputs": [
    {
     "data": {
      "text/plain": [
       "'1.25.1'"
      ]
     },
     "execution_count": 2,
     "metadata": {},
     "output_type": "execute_result"
    }
   ],
   "source": [
    "np.__version__"
   ]
  },
  {
   "cell_type": "code",
   "execution_count": 3,
   "id": "0cf35f3b-5365-4d37-bb18-8c2c0c3bb130",
   "metadata": {},
   "outputs": [
    {
     "data": {
      "text/plain": [
       "[1, 2, 3, 4, 5, 6, 7, 8, 9, 10]"
      ]
     },
     "execution_count": 3,
     "metadata": {},
     "output_type": "execute_result"
    }
   ],
   "source": [
    "a_list = [1, 2, 3 ,4, 5, 6, 7, 8, 9, 10]\n",
    "a_list"
   ]
  },
  {
   "cell_type": "code",
   "execution_count": 4,
   "id": "8c1b7d71-8034-47a3-84ae-8eec267739af",
   "metadata": {},
   "outputs": [
    {
     "data": {
      "text/plain": [
       "list"
      ]
     },
     "execution_count": 4,
     "metadata": {},
     "output_type": "execute_result"
    }
   ],
   "source": [
    "type(a_list)"
   ]
  },
  {
   "cell_type": "code",
   "execution_count": 5,
   "id": "8a8bed09-1181-40ea-8b85-501fa106ed69",
   "metadata": {},
   "outputs": [
    {
     "data": {
      "text/plain": [
       "array([ 1,  2,  3,  4,  5,  6,  7,  8,  9, 10])"
      ]
     },
     "execution_count": 5,
     "metadata": {},
     "output_type": "execute_result"
    }
   ],
   "source": [
    "a_arr = np.array(a_list)\n",
    "a_arr"
   ]
  },
  {
   "cell_type": "code",
   "execution_count": 6,
   "id": "871949b8-ddbc-48b9-bfd9-6a640870d1d8",
   "metadata": {},
   "outputs": [
    {
     "data": {
      "text/plain": [
       "numpy.ndarray"
      ]
     },
     "execution_count": 6,
     "metadata": {},
     "output_type": "execute_result"
    }
   ],
   "source": [
    "type(a_arr)"
   ]
  },
  {
   "cell_type": "code",
   "execution_count": 7,
   "id": "92e63b44-847b-4cb5-a0ea-cde5add85b29",
   "metadata": {},
   "outputs": [
    {
     "data": {
      "text/plain": [
       "10"
      ]
     },
     "execution_count": 7,
     "metadata": {},
     "output_type": "execute_result"
    }
   ],
   "source": [
    "len(a_list)"
   ]
  },
  {
   "cell_type": "code",
   "execution_count": 8,
   "id": "418675a3-475a-4a2b-b15e-40139c9b2a44",
   "metadata": {},
   "outputs": [
    {
     "data": {
      "text/plain": [
       "(10,)"
      ]
     },
     "execution_count": 8,
     "metadata": {},
     "output_type": "execute_result"
    }
   ],
   "source": [
    "a_arr.shape"
   ]
  },
  {
   "cell_type": "code",
   "execution_count": 9,
   "id": "67d9f411-99a1-4b18-a32c-eaf4935b3bfd",
   "metadata": {},
   "outputs": [
    {
     "data": {
      "text/plain": [
       "array([[ 1,  2,  3,  4,  5],\n",
       "       [ 6,  7,  8,  9, 10]])"
      ]
     },
     "execution_count": 9,
     "metadata": {},
     "output_type": "execute_result"
    }
   ],
   "source": [
    "a_arr.reshape(2, 5)"
   ]
  },
  {
   "cell_type": "code",
   "execution_count": 10,
   "id": "093e82d1-8416-4c6b-9330-4c840199c2ae",
   "metadata": {},
   "outputs": [
    {
     "data": {
      "text/plain": [
       "array([[ 1,  2],\n",
       "       [ 3,  4],\n",
       "       [ 5,  6],\n",
       "       [ 7,  8],\n",
       "       [ 9, 10]])"
      ]
     },
     "execution_count": 10,
     "metadata": {},
     "output_type": "execute_result"
    }
   ],
   "source": [
    "a_arr.reshape(5, 2)\n"
   ]
  },
  {
   "cell_type": "code",
   "execution_count": 11,
   "id": "8191bd05-2af5-4e32-b3b3-28a3ea3e0b14",
   "metadata": {},
   "outputs": [
    {
     "data": {
      "text/plain": [
       "array([ 1,  2,  3,  4,  5,  6,  7,  8,  9, 10])"
      ]
     },
     "execution_count": 11,
     "metadata": {},
     "output_type": "execute_result"
    }
   ],
   "source": [
    "a_arr"
   ]
  },
  {
   "cell_type": "code",
   "execution_count": 12,
   "id": "a5858518-3085-44cd-9816-98a65a78e20b",
   "metadata": {},
   "outputs": [
    {
     "data": {
      "text/plain": [
       "array([[ 1,  2,  3,  4,  5],\n",
       "       [ 6,  7,  8,  9, 10]])"
      ]
     },
     "execution_count": 12,
     "metadata": {},
     "output_type": "execute_result"
    }
   ],
   "source": [
    "a_arr = a_arr.reshape(2, 5)\n",
    "a_arr"
   ]
  },
  {
   "cell_type": "code",
   "execution_count": 13,
   "id": "6b2db95f-d48b-4a0a-95f6-05a31f2484af",
   "metadata": {},
   "outputs": [
    {
     "data": {
      "text/plain": [
       "array([[ 1,  6],\n",
       "       [ 2,  7],\n",
       "       [ 3,  8],\n",
       "       [ 4,  9],\n",
       "       [ 5, 10]])"
      ]
     },
     "execution_count": 13,
     "metadata": {},
     "output_type": "execute_result"
    }
   ],
   "source": [
    "a_arr.T # Tranposing the matrix"
   ]
  },
  {
   "cell_type": "code",
   "execution_count": 14,
   "id": "c4cf168f-81ae-45cc-b7df-cd1fa8438c59",
   "metadata": {},
   "outputs": [
    {
     "data": {
      "text/plain": [
       "array([[ 1,  2,  3,  4,  5],\n",
       "       [ 6,  7,  8,  9, 10]])"
      ]
     },
     "execution_count": 14,
     "metadata": {},
     "output_type": "execute_result"
    }
   ],
   "source": [
    "a_arr.T.T"
   ]
  },
  {
   "cell_type": "code",
   "execution_count": 15,
   "id": "856015bd-febe-47c3-a499-fec174327df8",
   "metadata": {},
   "outputs": [
    {
     "data": {
      "text/plain": [
       "array([ 0,  1,  2,  3,  4,  5,  6,  7,  8,  9, 10, 11, 12, 13, 14, 15, 16,\n",
       "       17, 18, 19, 20, 21, 22, 23, 24, 25, 26, 27, 28, 29, 30, 31, 32, 33,\n",
       "       34, 35, 36, 37, 38, 39, 40, 41, 42, 43, 44, 45, 46, 47, 48, 49, 50,\n",
       "       51, 52, 53, 54, 55, 56, 57, 58, 59, 60, 61, 62, 63, 64, 65, 66, 67,\n",
       "       68, 69, 70, 71, 72, 73, 74, 75, 76, 77, 78, 79, 80, 81, 82, 83, 84,\n",
       "       85, 86, 87, 88, 89, 90, 91, 92, 93, 94, 95, 96, 97, 98, 99])"
      ]
     },
     "execution_count": 15,
     "metadata": {},
     "output_type": "execute_result"
    }
   ],
   "source": [
    "np.arange(100)\n",
    "# Numpy way of generating serial numbers, similar to range in python"
   ]
  },
  {
   "cell_type": "code",
   "execution_count": 16,
   "id": "5cf27dcd-260a-4718-a1cf-240ca20cbaa6",
   "metadata": {},
   "outputs": [
    {
     "data": {
      "text/plain": [
       "array([100, 102, 104, 106, 108, 110, 112, 114, 116, 118, 120, 122, 124,\n",
       "       126, 128, 130, 132, 134, 136, 138, 140, 142, 144, 146, 148, 150,\n",
       "       152, 154, 156, 158, 160, 162, 164, 166, 168, 170, 172, 174, 176,\n",
       "       178, 180, 182, 184, 186, 188, 190, 192, 194, 196, 198, 200, 202,\n",
       "       204, 206, 208, 210, 212, 214, 216, 218, 220, 222, 224, 226, 228,\n",
       "       230, 232, 234, 236, 238, 240, 242, 244, 246, 248, 250, 252, 254,\n",
       "       256, 258, 260, 262, 264, 266, 268, 270, 272, 274, 276, 278, 280,\n",
       "       282, 284, 286, 288, 290, 292, 294, 296, 298])"
      ]
     },
     "execution_count": 16,
     "metadata": {},
     "output_type": "execute_result"
    }
   ],
   "source": [
    "a = np.arange(100, 300, 2) # start, stop, step\n",
    "a"
   ]
  },
  {
   "cell_type": "code",
   "execution_count": 17,
   "id": "8a8c1cea-5b65-4c86-bac3-90d2c22a9ca8",
   "metadata": {},
   "outputs": [
    {
     "data": {
      "text/plain": [
       "(100,)"
      ]
     },
     "execution_count": 17,
     "metadata": {},
     "output_type": "execute_result"
    }
   ],
   "source": [
    "a.shape"
   ]
  },
  {
   "cell_type": "code",
   "execution_count": 18,
   "id": "b097f810-054c-4129-bcfa-3fc673b8104a",
   "metadata": {},
   "outputs": [
    {
     "data": {
      "text/plain": [
       "[1, 2, 3, 4, 5, 6, 7, 8, 9, 10]"
      ]
     },
     "execution_count": 18,
     "metadata": {},
     "output_type": "execute_result"
    }
   ],
   "source": [
    "a_list"
   ]
  },
  {
   "cell_type": "code",
   "execution_count": 19,
   "id": "c223fd14-fa99-4d9f-a835-c17abf952b62",
   "metadata": {},
   "outputs": [
    {
     "data": {
      "text/plain": [
       "[2, 3, 4, 5, 6, 7, 8, 9, 10, 11]"
      ]
     },
     "execution_count": 19,
     "metadata": {},
     "output_type": "execute_result"
    }
   ],
   "source": [
    "for i in range(len(a_list)):\n",
    "    a_list[i] += 1\n",
    "a_list"
   ]
  },
  {
   "cell_type": "code",
   "execution_count": 20,
   "id": "3530b3ee-c307-4134-ae12-8132f4f4ee41",
   "metadata": {},
   "outputs": [
    {
     "data": {
      "text/plain": [
       "array([118, 120, 122, 124, 126, 128, 130, 132, 134, 136, 138, 140, 142,\n",
       "       144, 146, 148, 150, 152, 154, 156, 158, 160, 162, 164, 166, 168,\n",
       "       170, 172, 174, 176, 178, 180, 182, 184, 186, 188, 190, 192, 194,\n",
       "       196, 198, 200, 202, 204, 206, 208, 210, 212, 214, 216, 218, 220,\n",
       "       222, 224, 226, 228, 230, 232, 234, 236, 238, 240, 242, 244, 246,\n",
       "       248, 250, 252, 254, 256, 258, 260, 262, 264, 266, 268, 270, 272,\n",
       "       274, 276, 278, 280, 282, 284, 286, 288, 290, 292, 294, 296, 298,\n",
       "       300, 302, 304, 306, 308, 310, 312, 314, 316])"
      ]
     },
     "execution_count": 20,
     "metadata": {},
     "output_type": "execute_result"
    }
   ],
   "source": [
    "a + 18"
   ]
  },
  {
   "cell_type": "code",
   "execution_count": 21,
   "id": "1e7eeb33-5eda-4842-b1d9-a500d82e204f",
   "metadata": {},
   "outputs": [
    {
     "data": {
      "text/plain": [
       "array([ 77,  79,  81,  83,  85,  87,  89,  91,  93,  95,  97,  99, 101,\n",
       "       103, 105, 107, 109, 111, 113, 115, 117, 119, 121, 123, 125, 127,\n",
       "       129, 131, 133, 135, 137, 139, 141, 143, 145, 147, 149, 151, 153,\n",
       "       155, 157, 159, 161, 163, 165, 167, 169, 171, 173, 175, 177, 179,\n",
       "       181, 183, 185, 187, 189, 191, 193, 195, 197, 199, 201, 203, 205,\n",
       "       207, 209, 211, 213, 215, 217, 219, 221, 223, 225, 227, 229, 231,\n",
       "       233, 235, 237, 239, 241, 243, 245, 247, 249, 251, 253, 255, 257,\n",
       "       259, 261, 263, 265, 267, 269, 271, 273, 275])"
      ]
     },
     "execution_count": 21,
     "metadata": {},
     "output_type": "execute_result"
    }
   ],
   "source": [
    "a - 23"
   ]
  },
  {
   "cell_type": "code",
   "execution_count": 22,
   "id": "8fa5d4f6-7817-4a27-8dec-b173d0fb4333",
   "metadata": {},
   "outputs": [
    {
     "data": {
      "text/plain": [
       "array([100, 102, 104, 106, 108, 110, 112, 114, 116, 118, 120, 122, 124,\n",
       "       126, 128, 130, 132, 134, 136, 138, 140, 142, 144, 146, 148, 150,\n",
       "       152, 154, 156, 158, 160, 162, 164, 166, 168, 170, 172, 174, 176,\n",
       "       178, 180, 182, 184, 186, 188, 190, 192, 194, 196, 198, 200, 202,\n",
       "       204, 206, 208, 210, 212, 214, 216, 218, 220, 222, 224, 226, 228,\n",
       "       230, 232, 234, 236, 238, 240, 242, 244, 246, 248, 250, 252, 254,\n",
       "       256, 258, 260, 262, 264, 266, 268, 270, 272, 274, 276, 278, 280,\n",
       "       282, 284, 286, 288, 290, 292, 294, 296, 298])"
      ]
     },
     "execution_count": 22,
     "metadata": {},
     "output_type": "execute_result"
    }
   ],
   "source": [
    "a"
   ]
  },
  {
   "cell_type": "code",
   "execution_count": 24,
   "id": "f1aa61e1-8abf-4119-bb54-d79ac2b93548",
   "metadata": {},
   "outputs": [
    {
     "data": {
      "text/plain": [
       "array([1.  , 1.02, 1.04, 1.06, 1.08, 1.1 , 1.12, 1.14, 1.16, 1.18, 1.2 ,\n",
       "       1.22, 1.24, 1.26, 1.28, 1.3 , 1.32, 1.34, 1.36, 1.38, 1.4 , 1.42,\n",
       "       1.44, 1.46, 1.48, 1.5 , 1.52, 1.54, 1.56, 1.58, 1.6 , 1.62, 1.64,\n",
       "       1.66, 1.68, 1.7 , 1.72, 1.74, 1.76, 1.78, 1.8 , 1.82, 1.84, 1.86,\n",
       "       1.88, 1.9 , 1.92, 1.94, 1.96, 1.98, 2.  , 2.02, 2.04, 2.06, 2.08,\n",
       "       2.1 , 2.12, 2.14, 2.16, 2.18, 2.2 , 2.22, 2.24, 2.26, 2.28, 2.3 ,\n",
       "       2.32, 2.34, 2.36, 2.38, 2.4 , 2.42, 2.44, 2.46, 2.48, 2.5 , 2.52,\n",
       "       2.54, 2.56, 2.58, 2.6 , 2.62, 2.64, 2.66, 2.68, 2.7 , 2.72, 2.74,\n",
       "       2.76, 2.78, 2.8 , 2.82, 2.84, 2.86, 2.88, 2.9 , 2.92, 2.94, 2.96,\n",
       "       2.98])"
      ]
     },
     "execution_count": 24,
     "metadata": {},
     "output_type": "execute_result"
    }
   ],
   "source": [
    "a / 100"
   ]
  },
  {
   "cell_type": "code",
   "execution_count": null,
   "id": "15795b99-1be3-4f66-8416-fe85d44ea64b",
   "metadata": {},
   "outputs": [],
   "source": []
  }
 ],
 "metadata": {
  "kernelspec": {
   "display_name": "Python 3 (ipykernel)",
   "language": "python",
   "name": "python3"
  },
  "language_info": {
   "codemirror_mode": {
    "name": "ipython",
    "version": 3
   },
   "file_extension": ".py",
   "mimetype": "text/x-python",
   "name": "python",
   "nbconvert_exporter": "python",
   "pygments_lexer": "ipython3",
   "version": "3.10.11"
  }
 },
 "nbformat": 4,
 "nbformat_minor": 5
}
