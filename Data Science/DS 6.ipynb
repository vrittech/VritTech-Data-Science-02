{
 "cells": [
  {
   "cell_type": "code",
   "execution_count": 1,
   "id": "7b685110-976a-4366-b732-bc448d774d15",
   "metadata": {},
   "outputs": [],
   "source": [
    "import random"
   ]
  },
  {
   "cell_type": "code",
   "execution_count": 2,
   "id": "5b69bf9c-ce22-4cc3-994a-c5c98c39f2ad",
   "metadata": {},
   "outputs": [],
   "source": [
    "class Player:\n",
    "    def __init__(self, name, char, player_type='human'):\n",
    "        self.name = name\n",
    "        self.char = char\n",
    "        self.player_type = player_type\n",
    "    def make_move(self, ):\n",
    "        move = input('Make your move: ')\n",
    "        return int(move)\n",
    "    def new_game(self, ):\n",
    "        print(f'{self.name} is {self.char}')\n",
    "    def winner(self, ):\n",
    "        print(f'{self.name} is winner')\n",
    "    def reward(self, reward_value):\n",
    "        print(f'{self.name} gets {reward_value}')"
   ]
  },
  {
   "cell_type": "code",
   "execution_count": 3,
   "id": "bc3c4a20-d759-4fda-baa2-a8d5b3a93840",
   "metadata": {},
   "outputs": [
    {
     "data": {
      "text/plain": [
       "[' ', ' ', ' ', ' ', ' ', ' ', ' ', ' ', ' ']"
      ]
     },
     "execution_count": 3,
     "metadata": {},
     "output_type": "execute_result"
    }
   ],
   "source": [
    "[' '] * 9"
   ]
  },
  {
   "cell_type": "code",
   "execution_count": 4,
   "id": "65c5e479-6486-49c0-9a32-bd017a2ca75c",
   "metadata": {},
   "outputs": [],
   "source": [
    "class TicTacToe:\n",
    "    def __init__(self, player1, player2):\n",
    "        self.player1 = player1\n",
    "        self.player2 = player2\n",
    "        self.board = [' '] * 9\n",
    "        self.player1_turn = random.choice([True, False])\n",
    "\n",
    "    def print_board(self, ):\n",
    "        b = self.board\n",
    "        board = f'''\n",
    "        {b[0]} | {b[1]} | {b[2]}\n",
    "        ----------\n",
    "        {b[3]} | {b[4]} | {b[5]}\n",
    "        ----------\n",
    "        {b[6]} | {b[7]} | {b[8]}\n",
    "        ----------\n",
    "        '''\n",
    "        print(board)\n",
    "    def check_winner(self, symbol):\n",
    "        b = self.board\n",
    "        winner = False\n",
    "        conditions = (\n",
    "            (0, 1, 2), (3, 4, 5), (6, 7, 8),\n",
    "            (0, 3, 6), (1, 4, 7), (2, 5, 8),\n",
    "            (0, 4, 8), (2, 4, 6)\n",
    "        )\n",
    "        for each_condition in conditions:\n",
    "            i1, i2, i3 = each_condition\n",
    "            if symbol == b[i1] == b[i2] == b[i3]:\n",
    "                winner = True\n",
    "                return winner\n",
    "        return winner\n",
    "    \n",
    "    def check_full(self, ):\n",
    "        emptys = [x for x in self.board if x == ' ']\n",
    "        if len(emptys) == 0:\n",
    "            return True\n",
    "        return False\n",
    "        \n",
    "    def play(self, ):\n",
    "        self.player1.new_game()\n",
    "        self.player2.new_game()\n",
    "        while True:\n",
    "            self.print_board()\n",
    "            # Initiate player's turn\n",
    "            if self.player1_turn:\n",
    "                player = self.player1\n",
    "            else:\n",
    "                player = self.player2\n",
    "            print(f'{player.name} Turn')\n",
    "            # Ask for move\n",
    "            move = player.make_move()\n",
    "            # check validity, if invalid: ask again\n",
    "            if (move < 0 or move > 8) or (self.board[move] != ' '):\n",
    "                print('Invalid move!!!!')\n",
    "                continue\n",
    "            # put char\n",
    "            self.board[move] = player.char\n",
    "            # check winner; If win, break\n",
    "            win = self.check_winner(player.char)\n",
    "            if win:\n",
    "                player.winner()\n",
    "                player.reward('lollipop')\n",
    "                self.print_board()\n",
    "                break\n",
    "            # checkfull(draw) if full, break\n",
    "            full = self.check_full()\n",
    "            if full:\n",
    "                print('Game ended as draw')\n",
    "                self.print_board()\n",
    "                break\n",
    "            # swap turn\n",
    "            self.player1_turn = not self.player1_turn\n",
    "            pass"
   ]
  },
  {
   "cell_type": "code",
   "execution_count": 5,
   "id": "8b996a9f-17ee-41f1-a9f7-fd1e3fb6c780",
   "metadata": {},
   "outputs": [
    {
     "name": "stdout",
     "output_type": "stream",
     "text": [
      "Ghana Shyam is X\n",
      "Radha Piyari is O\n",
      "\n",
      "          |   |  \n",
      "        ----------\n",
      "          |   |  \n",
      "        ----------\n",
      "          |   |  \n",
      "        ----------\n",
      "        \n",
      "Radha Piyari Turn\n"
     ]
    },
    {
     "name": "stdin",
     "output_type": "stream",
     "text": [
      "Make your move:  4\n"
     ]
    },
    {
     "name": "stdout",
     "output_type": "stream",
     "text": [
      "\n",
      "          |   |  \n",
      "        ----------\n",
      "          | O |  \n",
      "        ----------\n",
      "          |   |  \n",
      "        ----------\n",
      "        \n",
      "Ghana Shyam Turn\n"
     ]
    },
    {
     "name": "stdin",
     "output_type": "stream",
     "text": [
      "Make your move:  0\n"
     ]
    },
    {
     "name": "stdout",
     "output_type": "stream",
     "text": [
      "\n",
      "        X |   |  \n",
      "        ----------\n",
      "          | O |  \n",
      "        ----------\n",
      "          |   |  \n",
      "        ----------\n",
      "        \n",
      "Radha Piyari Turn\n"
     ]
    },
    {
     "name": "stdin",
     "output_type": "stream",
     "text": [
      "Make your move:  1\n"
     ]
    },
    {
     "name": "stdout",
     "output_type": "stream",
     "text": [
      "\n",
      "        X | O |  \n",
      "        ----------\n",
      "          | O |  \n",
      "        ----------\n",
      "          |   |  \n",
      "        ----------\n",
      "        \n",
      "Ghana Shyam Turn\n"
     ]
    },
    {
     "name": "stdin",
     "output_type": "stream",
     "text": [
      "Make your move:  2\n"
     ]
    },
    {
     "name": "stdout",
     "output_type": "stream",
     "text": [
      "\n",
      "        X | O | X\n",
      "        ----------\n",
      "          | O |  \n",
      "        ----------\n",
      "          |   |  \n",
      "        ----------\n",
      "        \n",
      "Radha Piyari Turn\n"
     ]
    },
    {
     "name": "stdin",
     "output_type": "stream",
     "text": [
      "Make your move:  7\n"
     ]
    },
    {
     "name": "stdout",
     "output_type": "stream",
     "text": [
      "Radha Piyari is winner\n",
      "Radha Piyari gets lollipop\n"
     ]
    }
   ],
   "source": [
    "p1 = Player('Ghana Shyam', 'X')\n",
    "p2 = Player('Radha Piyari', 'O')\n",
    "\n",
    "game = TicTacToe(p1, p2)\n",
    "game.play()"
   ]
  },
  {
   "cell_type": "code",
   "execution_count": null,
   "id": "47dd0e6f-b0d2-490d-92c5-74ec53c2a57b",
   "metadata": {},
   "outputs": [],
   "source": []
  }
 ],
 "metadata": {
  "kernelspec": {
   "display_name": "Python 3 (ipykernel)",
   "language": "python",
   "name": "python3"
  },
  "language_info": {
   "codemirror_mode": {
    "name": "ipython",
    "version": 3
   },
   "file_extension": ".py",
   "mimetype": "text/x-python",
   "name": "python",
   "nbconvert_exporter": "python",
   "pygments_lexer": "ipython3",
   "version": "3.10.11"
  }
 },
 "nbformat": 4,
 "nbformat_minor": 5
}
