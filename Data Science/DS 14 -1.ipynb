{
 "cells": [
  {
   "cell_type": "code",
   "execution_count": 1,
   "id": "632df315-76ab-4742-b10f-bb1a7e45caef",
   "metadata": {},
   "outputs": [],
   "source": [
    "import joblib"
   ]
  },
  {
   "cell_type": "code",
   "execution_count": 2,
   "id": "7e093470-d5e4-4eef-ab5c-4c8f1750408a",
   "metadata": {},
   "outputs": [],
   "source": [
    "scaler = joblib.load('./KNN_Standard_scaler.pkl')"
   ]
  },
  {
   "cell_type": "code",
   "execution_count": 3,
   "id": "08f388ac-0322-49d4-9fb8-b5da4dfe102d",
   "metadata": {},
   "outputs": [],
   "source": [
    "model = joblib.load('./KNN_Calofornia_housing.pkl')"
   ]
  },
  {
   "cell_type": "code",
   "execution_count": 4,
   "id": "08bea6d6-be34-4af5-b6ce-123354b168df",
   "metadata": {},
   "outputs": [],
   "source": [
    "data = [[3.7933,34.,5.32786885, 870., 4.75409836, 34.07, -117.79 ],\n",
    "        [2.401, 37., 4.4925816 , 1121., 3.3264095 , 37.97, -121.22],\n",
    "       [   2.1111    ,   33.        ,    4.92727273,  888.        ,\n",
    "           2.30649351,   39.16      , -121.58      ],\n",
    "       [   3.5329    ,   31.        ,    4.5       , 1524.        ,\n",
    "           3.35682819,   33.84      , -117.9       ],\n",
    "       [   2.3179    ,   14.        ,    6.13829787,  638.        ,\n",
    "           2.26241135,   38.94      , -122.62      ]]"
   ]
  },
  {
   "cell_type": "code",
   "execution_count": 5,
   "id": "783fa1a2-58ae-4403-b05c-e358ab3412c8",
   "metadata": {},
   "outputs": [
    {
     "name": "stderr",
     "output_type": "stream",
     "text": [
      "C:\\Users\\prabe\\AppData\\Local\\Programs\\Python\\Python310\\lib\\site-packages\\sklearn\\base.py:464: UserWarning: X does not have valid feature names, but StandardScaler was fitted with feature names\n",
      "  warnings.warn(\n"
     ]
    }
   ],
   "source": [
    "data_scaled = scaler.transform(data)"
   ]
  },
  {
   "cell_type": "code",
   "execution_count": 6,
   "id": "1ca07ae0-e920-4b39-a698-b7d48bff82d6",
   "metadata": {},
   "outputs": [
    {
     "data": {
      "text/plain": [
       "array([1.71588889, 0.77655556, 0.77244444, 1.79277778, 0.85444444])"
      ]
     },
     "execution_count": 6,
     "metadata": {},
     "output_type": "execute_result"
    }
   ],
   "source": [
    "model.predict(data_scaled)"
   ]
  },
  {
   "cell_type": "code",
   "execution_count": null,
   "id": "aff330d5-867e-4d0d-a1aa-ebf1f783d291",
   "metadata": {},
   "outputs": [],
   "source": []
  }
 ],
 "metadata": {
  "kernelspec": {
   "display_name": "Python 3 (ipykernel)",
   "language": "python",
   "name": "python3"
  },
  "language_info": {
   "codemirror_mode": {
    "name": "ipython",
    "version": 3
   },
   "file_extension": ".py",
   "mimetype": "text/x-python",
   "name": "python",
   "nbconvert_exporter": "python",
   "pygments_lexer": "ipython3",
   "version": "3.10.11"
  }
 },
 "nbformat": 4,
 "nbformat_minor": 5
}
