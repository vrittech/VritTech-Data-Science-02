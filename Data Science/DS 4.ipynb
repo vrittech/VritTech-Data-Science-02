{
 "cells": [
  {
   "cell_type": "code",
   "execution_count": 1,
   "id": "09b2ad84-5a93-49b7-9605-a4a05efc9799",
   "metadata": {},
   "outputs": [],
   "source": [
    "import numpy as np\n",
    "import matplotlib.pyplot as plt"
   ]
  },
  {
   "cell_type": "code",
   "execution_count": 2,
   "id": "8d851852-ef5e-49ac-ac70-155e26f2b55a",
   "metadata": {},
   "outputs": [],
   "source": [
    "labels = np.array(['Nepal', 'India', 'China', 'Nepal', 'China',\n",
    "                  'Nepal', 'India', 'China', 'Nepal', 'China'])"
   ]
  },
  {
   "cell_type": "code",
   "execution_count": 3,
   "id": "3fa01143-5d0b-4bae-ac05-8c35d733c8dc",
   "metadata": {},
   "outputs": [],
   "source": [
    "from sklearn.preprocessing import LabelEncoder, OneHotEncoder, OrdinalEncoder"
   ]
  },
  {
   "cell_type": "code",
   "execution_count": 4,
   "id": "ee33d512-6e82-4ebd-b7dc-978cd60b1c8b",
   "metadata": {},
   "outputs": [],
   "source": [
    "label_encoder = LabelEncoder()\n",
    "one_hot_encoder = OneHotEncoder(sparse_output=False)"
   ]
  },
  {
   "cell_type": "code",
   "execution_count": 5,
   "id": "68b00ca3-ac7d-49a5-9669-4269c07183e7",
   "metadata": {},
   "outputs": [
    {
     "data": {
      "text/plain": [
       "array(['Nepal', 'India', 'China', 'Nepal', 'China', 'Nepal', 'India',\n",
       "       'China', 'Nepal', 'China'], dtype='<U5')"
      ]
     },
     "execution_count": 5,
     "metadata": {},
     "output_type": "execute_result"
    }
   ],
   "source": [
    "labels"
   ]
  },
  {
   "cell_type": "code",
   "execution_count": 6,
   "id": "b269d792-734e-4a97-91bc-7f903a576189",
   "metadata": {},
   "outputs": [
    {
     "data": {
      "text/plain": [
       "array([2, 1, 0, 2, 0, 2, 1, 0, 2, 0], dtype=int64)"
      ]
     },
     "execution_count": 6,
     "metadata": {},
     "output_type": "execute_result"
    }
   ],
   "source": [
    "label_encoder.fit_transform(labels)"
   ]
  },
  {
   "cell_type": "code",
   "execution_count": 7,
   "id": "4425abc4-ffeb-40e1-a4a8-635bba8aa6b1",
   "metadata": {},
   "outputs": [
    {
     "data": {
      "text/plain": [
       "array(['China', 'India', 'Nepal'], dtype='<U5')"
      ]
     },
     "execution_count": 7,
     "metadata": {},
     "output_type": "execute_result"
    }
   ],
   "source": [
    "label_encoder.classes_"
   ]
  },
  {
   "cell_type": "code",
   "execution_count": 8,
   "id": "6eea5953-f55c-4bdf-8dd4-8f5e27fe4d42",
   "metadata": {},
   "outputs": [
    {
     "data": {
      "text/plain": [
       "array([['Nepal'],\n",
       "       ['India'],\n",
       "       ['China'],\n",
       "       ['Nepal'],\n",
       "       ['China'],\n",
       "       ['Nepal'],\n",
       "       ['India'],\n",
       "       ['China'],\n",
       "       ['Nepal'],\n",
       "       ['China']], dtype='<U5')"
      ]
     },
     "execution_count": 8,
     "metadata": {},
     "output_type": "execute_result"
    }
   ],
   "source": [
    "labels.reshape(-1, 1)"
   ]
  },
  {
   "cell_type": "code",
   "execution_count": 9,
   "id": "433ad3c6-b2ce-4d73-a9ec-b9f709a43290",
   "metadata": {},
   "outputs": [
    {
     "data": {
      "text/plain": [
       "array([[0., 0., 1.],\n",
       "       [0., 1., 0.],\n",
       "       [1., 0., 0.],\n",
       "       [0., 0., 1.],\n",
       "       [1., 0., 0.],\n",
       "       [0., 0., 1.],\n",
       "       [0., 1., 0.],\n",
       "       [1., 0., 0.],\n",
       "       [0., 0., 1.],\n",
       "       [1., 0., 0.]])"
      ]
     },
     "execution_count": 9,
     "metadata": {},
     "output_type": "execute_result"
    }
   ],
   "source": [
    "one_hot_encoder.fit_transform(labels.reshape(-1, 1))"
   ]
  },
  {
   "cell_type": "markdown",
   "id": "955bbeae-fe22-4fd7-a13f-bfad8e80488d",
   "metadata": {},
   "source": [
    "# Data Scaling"
   ]
  },
  {
   "cell_type": "code",
   "execution_count": 10,
   "id": "ac85d5d0-b601-4f6d-9b74-f0d7437b7ff4",
   "metadata": {},
   "outputs": [],
   "source": [
    "np.random.seed(666)"
   ]
  },
  {
   "cell_type": "code",
   "execution_count": 11,
   "id": "b3675e3a-5eed-4f1e-9aab-12e7308b4e80",
   "metadata": {},
   "outputs": [
    {
     "data": {
      "text/plain": [
       "array([22, 65, 50, 82, 90, 93, 50, 56, 81, 71, 80, 48, 34, 83, 36])"
      ]
     },
     "execution_count": 11,
     "metadata": {},
     "output_type": "execute_result"
    }
   ],
   "source": [
    "data = np.random.randint(low=20, high=100, size=15)\n",
    "data"
   ]
  },
  {
   "cell_type": "code",
   "execution_count": 12,
   "id": "f45962fd-6fe7-4640-ac68-02ce22f2d0be",
   "metadata": {},
   "outputs": [],
   "source": [
    "from sklearn.preprocessing import MinMaxScaler, MaxAbsScaler, StandardScaler, RobustScaler"
   ]
  },
  {
   "cell_type": "markdown",
   "id": "b58c4b7c-c2cf-474c-bd61-5db011a16ac4",
   "metadata": {},
   "source": [
    "# Min Max Scaler : $\\frac{X - min}{max - min}$ : $\\frac{X - 22}{93 - 22}$\n",
    "# MaxAbs Scaler: $\\frac{X}{max}$\n",
    "# Standard Scaler : $\\frac{X - \\mu}{\\sigma}$\n",
    "\n",
    "# Robust Scaler : $\\frac{X - q_1}{q_3 - q_1}$ "
   ]
  },
  {
   "cell_type": "code",
   "execution_count": null,
   "id": "44c9ac35-01b2-4594-a2e7-6af979a4c7fb",
   "metadata": {},
   "outputs": [],
   "source": []
  }
 ],
 "metadata": {
  "kernelspec": {
   "display_name": "Python 3 (ipykernel)",
   "language": "python",
   "name": "python3"
  },
  "language_info": {
   "codemirror_mode": {
    "name": "ipython",
    "version": 3
   },
   "file_extension": ".py",
   "mimetype": "text/x-python",
   "name": "python",
   "nbconvert_exporter": "python",
   "pygments_lexer": "ipython3",
   "version": "3.10.11"
  }
 },
 "nbformat": 4,
 "nbformat_minor": 5
}
